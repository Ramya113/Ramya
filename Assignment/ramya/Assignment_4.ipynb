{
 "cells": [
  {
   "cell_type": "code",
   "execution_count": 133,
   "id": "c5a14bcd",
   "metadata": {},
   "outputs": [],
   "source": [
    "#import the necessary files\n",
    "import numpy as np\n",
    "import pandas as pd\n",
    "import matplotlib.pyplot as plt\n",
    "%matplotlib inline\n",
    "import seaborn as sns\n",
    "from sklearn.tree import DecisionTreeRegressor\n",
    "from sklearn.ensemble import RandomForestRegressor\n",
    "from sklearn.linear_model import LinearRegression\n",
    "from sklearn.metrics import mean_squared_error,r2_score\n",
    "from sklearn.svm import SVR\n",
    "from sklearn.pipeline import Pipeline\n",
    "from sklearn.impute import SimpleImputer\n",
    "from sklearn.preprocessing import StandardScaler"
   ]
  },
  {
   "cell_type": "code",
   "execution_count": 134,
   "id": "03e4e193",
   "metadata": {},
   "outputs": [],
   "source": [
    "data = pd.read_csv(\"Mall_Customers.csv\")"
   ]
  },
  {
   "cell_type": "code",
   "execution_count": 135,
   "id": "dd927bbb",
   "metadata": {},
   "outputs": [
    {
     "data": {
      "text/html": [
       "<div>\n",
       "<style scoped>\n",
       "    .dataframe tbody tr th:only-of-type {\n",
       "        vertical-align: middle;\n",
       "    }\n",
       "\n",
       "    .dataframe tbody tr th {\n",
       "        vertical-align: top;\n",
       "    }\n",
       "\n",
       "    .dataframe thead th {\n",
       "        text-align: right;\n",
       "    }\n",
       "</style>\n",
       "<table border=\"1\" class=\"dataframe\">\n",
       "  <thead>\n",
       "    <tr style=\"text-align: right;\">\n",
       "      <th></th>\n",
       "      <th>CustomerID</th>\n",
       "      <th>Gender</th>\n",
       "      <th>Age</th>\n",
       "      <th>Annual Income (k$)</th>\n",
       "      <th>Spending Score (1-100)</th>\n",
       "    </tr>\n",
       "  </thead>\n",
       "  <tbody>\n",
       "    <tr>\n",
       "      <th>0</th>\n",
       "      <td>1</td>\n",
       "      <td>Male</td>\n",
       "      <td>19</td>\n",
       "      <td>15</td>\n",
       "      <td>39</td>\n",
       "    </tr>\n",
       "    <tr>\n",
       "      <th>1</th>\n",
       "      <td>2</td>\n",
       "      <td>Male</td>\n",
       "      <td>21</td>\n",
       "      <td>15</td>\n",
       "      <td>81</td>\n",
       "    </tr>\n",
       "    <tr>\n",
       "      <th>2</th>\n",
       "      <td>3</td>\n",
       "      <td>Female</td>\n",
       "      <td>20</td>\n",
       "      <td>16</td>\n",
       "      <td>6</td>\n",
       "    </tr>\n",
       "    <tr>\n",
       "      <th>3</th>\n",
       "      <td>4</td>\n",
       "      <td>Female</td>\n",
       "      <td>23</td>\n",
       "      <td>16</td>\n",
       "      <td>77</td>\n",
       "    </tr>\n",
       "    <tr>\n",
       "      <th>4</th>\n",
       "      <td>5</td>\n",
       "      <td>Female</td>\n",
       "      <td>31</td>\n",
       "      <td>17</td>\n",
       "      <td>40</td>\n",
       "    </tr>\n",
       "  </tbody>\n",
       "</table>\n",
       "</div>"
      ],
      "text/plain": [
       "   CustomerID  Gender  Age  Annual Income (k$)  Spending Score (1-100)\n",
       "0           1    Male   19                  15                      39\n",
       "1           2    Male   21                  15                      81\n",
       "2           3  Female   20                  16                       6\n",
       "3           4  Female   23                  16                      77\n",
       "4           5  Female   31                  17                      40"
      ]
     },
     "execution_count": 135,
     "metadata": {},
     "output_type": "execute_result"
    }
   ],
   "source": [
    "data.head()"
   ]
  },
  {
   "cell_type": "code",
   "execution_count": 136,
   "id": "d650b8c6",
   "metadata": {},
   "outputs": [
    {
     "name": "stdout",
     "output_type": "stream",
     "text": [
      "(200, 5)\n",
      "<class 'pandas.core.frame.DataFrame'>\n",
      "RangeIndex: 200 entries, 0 to 199\n",
      "Data columns (total 5 columns):\n",
      " #   Column                  Non-Null Count  Dtype \n",
      "---  ------                  --------------  ----- \n",
      " 0   CustomerID              200 non-null    int64 \n",
      " 1   Gender                  200 non-null    object\n",
      " 2   Age                     200 non-null    int64 \n",
      " 3   Annual Income (k$)      200 non-null    int64 \n",
      " 4   Spending Score (1-100)  200 non-null    int64 \n",
      "dtypes: int64(4), object(1)\n",
      "memory usage: 7.9+ KB\n"
     ]
    }
   ],
   "source": [
    "print(data.shape)\n",
    "data.info()"
   ]
  },
  {
   "cell_type": "code",
   "execution_count": 137,
   "id": "d05b0787",
   "metadata": {},
   "outputs": [
    {
     "data": {
      "text/html": [
       "<div>\n",
       "<style scoped>\n",
       "    .dataframe tbody tr th:only-of-type {\n",
       "        vertical-align: middle;\n",
       "    }\n",
       "\n",
       "    .dataframe tbody tr th {\n",
       "        vertical-align: top;\n",
       "    }\n",
       "\n",
       "    .dataframe thead th {\n",
       "        text-align: right;\n",
       "    }\n",
       "</style>\n",
       "<table border=\"1\" class=\"dataframe\">\n",
       "  <thead>\n",
       "    <tr style=\"text-align: right;\">\n",
       "      <th></th>\n",
       "      <th>count</th>\n",
       "      <th>mean</th>\n",
       "      <th>std</th>\n",
       "      <th>min</th>\n",
       "      <th>25%</th>\n",
       "      <th>50%</th>\n",
       "      <th>75%</th>\n",
       "      <th>max</th>\n",
       "    </tr>\n",
       "  </thead>\n",
       "  <tbody>\n",
       "    <tr>\n",
       "      <th>CustomerID</th>\n",
       "      <td>200.0</td>\n",
       "      <td>100.50</td>\n",
       "      <td>57.879185</td>\n",
       "      <td>1.0</td>\n",
       "      <td>50.75</td>\n",
       "      <td>100.5</td>\n",
       "      <td>150.25</td>\n",
       "      <td>200.0</td>\n",
       "    </tr>\n",
       "    <tr>\n",
       "      <th>Age</th>\n",
       "      <td>200.0</td>\n",
       "      <td>38.85</td>\n",
       "      <td>13.969007</td>\n",
       "      <td>18.0</td>\n",
       "      <td>28.75</td>\n",
       "      <td>36.0</td>\n",
       "      <td>49.00</td>\n",
       "      <td>70.0</td>\n",
       "    </tr>\n",
       "    <tr>\n",
       "      <th>Annual Income (k$)</th>\n",
       "      <td>200.0</td>\n",
       "      <td>60.56</td>\n",
       "      <td>26.264721</td>\n",
       "      <td>15.0</td>\n",
       "      <td>41.50</td>\n",
       "      <td>61.5</td>\n",
       "      <td>78.00</td>\n",
       "      <td>137.0</td>\n",
       "    </tr>\n",
       "    <tr>\n",
       "      <th>Spending Score (1-100)</th>\n",
       "      <td>200.0</td>\n",
       "      <td>50.20</td>\n",
       "      <td>25.823522</td>\n",
       "      <td>1.0</td>\n",
       "      <td>34.75</td>\n",
       "      <td>50.0</td>\n",
       "      <td>73.00</td>\n",
       "      <td>99.0</td>\n",
       "    </tr>\n",
       "  </tbody>\n",
       "</table>\n",
       "</div>"
      ],
      "text/plain": [
       "                        count    mean        std   min    25%    50%     75%  \\\n",
       "CustomerID              200.0  100.50  57.879185   1.0  50.75  100.5  150.25   \n",
       "Age                     200.0   38.85  13.969007  18.0  28.75   36.0   49.00   \n",
       "Annual Income (k$)      200.0   60.56  26.264721  15.0  41.50   61.5   78.00   \n",
       "Spending Score (1-100)  200.0   50.20  25.823522   1.0  34.75   50.0   73.00   \n",
       "\n",
       "                          max  \n",
       "CustomerID              200.0  \n",
       "Age                      70.0  \n",
       "Annual Income (k$)      137.0  \n",
       "Spending Score (1-100)   99.0  "
      ]
     },
     "execution_count": 137,
     "metadata": {},
     "output_type": "execute_result"
    }
   ],
   "source": [
    "data.describe().T"
   ]
  },
  {
   "cell_type": "markdown",
   "id": "5448d6c3",
   "metadata": {},
   "source": [
    "## Visualizations"
   ]
  },
  {
   "cell_type": "markdown",
   "id": "fa55965e",
   "metadata": {},
   "source": [
    "### Univariate Analysis"
   ]
  },
  {
   "cell_type": "code",
   "execution_count": 138,
   "id": "cd72c4cf",
   "metadata": {},
   "outputs": [
    {
     "data": {
      "text/html": [
       "<div>\n",
       "<style scoped>\n",
       "    .dataframe tbody tr th:only-of-type {\n",
       "        vertical-align: middle;\n",
       "    }\n",
       "\n",
       "    .dataframe tbody tr th {\n",
       "        vertical-align: top;\n",
       "    }\n",
       "\n",
       "    .dataframe thead th {\n",
       "        text-align: right;\n",
       "    }\n",
       "</style>\n",
       "<table border=\"1\" class=\"dataframe\">\n",
       "  <thead>\n",
       "    <tr style=\"text-align: right;\">\n",
       "      <th></th>\n",
       "      <th>CustomerID</th>\n",
       "      <th>Gender</th>\n",
       "      <th>Age</th>\n",
       "      <th>Annual Income (k$)</th>\n",
       "      <th>Spending Score (1-100)</th>\n",
       "    </tr>\n",
       "  </thead>\n",
       "  <tbody>\n",
       "    <tr>\n",
       "      <th>0</th>\n",
       "      <td>1</td>\n",
       "      <td>Male</td>\n",
       "      <td>19</td>\n",
       "      <td>15</td>\n",
       "      <td>39</td>\n",
       "    </tr>\n",
       "    <tr>\n",
       "      <th>1</th>\n",
       "      <td>2</td>\n",
       "      <td>Male</td>\n",
       "      <td>21</td>\n",
       "      <td>15</td>\n",
       "      <td>81</td>\n",
       "    </tr>\n",
       "    <tr>\n",
       "      <th>2</th>\n",
       "      <td>3</td>\n",
       "      <td>Female</td>\n",
       "      <td>20</td>\n",
       "      <td>16</td>\n",
       "      <td>6</td>\n",
       "    </tr>\n",
       "    <tr>\n",
       "      <th>3</th>\n",
       "      <td>4</td>\n",
       "      <td>Female</td>\n",
       "      <td>23</td>\n",
       "      <td>16</td>\n",
       "      <td>77</td>\n",
       "    </tr>\n",
       "    <tr>\n",
       "      <th>4</th>\n",
       "      <td>5</td>\n",
       "      <td>Female</td>\n",
       "      <td>31</td>\n",
       "      <td>17</td>\n",
       "      <td>40</td>\n",
       "    </tr>\n",
       "  </tbody>\n",
       "</table>\n",
       "</div>"
      ],
      "text/plain": [
       "   CustomerID  Gender  Age  Annual Income (k$)  Spending Score (1-100)\n",
       "0           1    Male   19                  15                      39\n",
       "1           2    Male   21                  15                      81\n",
       "2           3  Female   20                  16                       6\n",
       "3           4  Female   23                  16                      77\n",
       "4           5  Female   31                  17                      40"
      ]
     },
     "execution_count": 138,
     "metadata": {},
     "output_type": "execute_result"
    }
   ],
   "source": [
    "data.head()"
   ]
  },
  {
   "cell_type": "code",
   "execution_count": 139,
   "id": "2b2853d9",
   "metadata": {},
   "outputs": [
    {
     "name": "stderr",
     "output_type": "stream",
     "text": [
      "C:\\Users\\balas\\anaconda3\\lib\\site-packages\\seaborn\\distributions.py:2619: FutureWarning: `distplot` is a deprecated function and will be removed in a future version. Please adapt your code to use either `displot` (a figure-level function with similar flexibility) or `histplot` (an axes-level function for histograms).\n",
      "  warnings.warn(msg, FutureWarning)\n"
     ]
    },
    {
     "data": {
      "text/plain": [
       "<AxesSubplot:xlabel='CustomerID', ylabel='Density'>"
      ]
     },
     "execution_count": 139,
     "metadata": {},
     "output_type": "execute_result"
    },
    {
     "data": {
      "image/png": "[encoded data removed]",
      "text/plain": [
       "<Figure size 432x288 with 1 Axes>"
      ]
     },
     "metadata": {
      "needs_background": "light"
     },
     "output_type": "display_data"
    }
   ],
   "source": [
    "sns.distplot(data['CustomerID'])"
   ]
  },
  {
   "cell_type": "code",
   "execution_count": 140,
   "id": "1616ecd8",
   "metadata": {},
   "outputs": [
    {
     "data": {
      "text/plain": [
       "<AxesSubplot:xlabel='CustomerID', ylabel='Count'>"
      ]
     },
     "execution_count": 140,
     "metadata": {},
     "output_type": "execute_result"
    },
    {
     "data": {
      "image/png": "[encoded data removed]",
      "text/plain": [
       "<Figure size 432x288 with 1 Axes>"
      ]
     },
     "metadata": {
      "needs_background": "light"
     },
     "output_type": "display_data"
    }
   ],
   "source": [
    "sns.histplot(data['CustomerID'])"
   ]
  },
  {
   "cell_type": "code",
   "execution_count": 141,
   "id": "80593fd2",
   "metadata": {},
   "outputs": [
    {
     "name": "stderr",
     "output_type": "stream",
     "text": [
      "C:\\Users\\balas\\anaconda3\\lib\\site-packages\\seaborn\\_decorators.py:36: FutureWarning: Pass the following variable as a keyword arg: x. From version 0.12, the only valid positional argument will be `data`, and passing other arguments without an explicit keyword will result in an error or misinterpretation.\n",
      "  warnings.warn(\n"
     ]
    },
    {
     "data": {
      "text/plain": [
       "<AxesSubplot:xlabel='CustomerID'>"
      ]
     },
     "execution_count": 141,
     "metadata": {},
     "output_type": "execute_result"
    },
    {
     "data": {
      "image/png": "[encoded data removed]",
      "text/plain": [
       "<Figure size 432x288 with 1 Axes>"
      ]
     },
     "metadata": {
      "needs_background": "light"
     },
     "output_type": "display_data"
    }
   ],
   "source": [
    "sns.boxplot(data['CustomerID'])"
   ]
  },
  {
   "cell_type": "code",
   "execution_count": 142,
   "id": "1ff6044b",
   "metadata": {},
   "outputs": [
    {
     "name": "stderr",
     "output_type": "stream",
     "text": [
      "C:\\Users\\balas\\anaconda3\\lib\\site-packages\\seaborn\\distributions.py:2619: FutureWarning: `distplot` is a deprecated function and will be removed in a future version. Please adapt your code to use either `displot` (a figure-level function with similar flexibility) or `histplot` (an axes-level function for histograms).\n",
      "  warnings.warn(msg, FutureWarning)\n"
     ]
    },
    {
     "data": {
      "text/plain": [
       "<AxesSubplot:xlabel='Age', ylabel='Density'>"
      ]
     },
     "execution_count": 142,
     "metadata": {},
     "output_type": "execute_result"
    },
    {
     "data": {
      "image/png": "[encoded data removed]",
      "text/plain": [
       "<Figure size 432x288 with 1 Axes>"
      ]
     },
     "metadata": {
      "needs_background": "light"
     },
     "output_type": "display_data"
    }
   ],
   "source": [
    "sns.distplot(data['Age'])"
   ]
  },
  {
   "cell_type": "code",
   "execution_count": 143,
   "id": "cba28f59",
   "metadata": {},
   "outputs": [
    {
     "data": {
      "text/plain": [
       "<AxesSubplot:xlabel='Age', ylabel='Count'>"
      ]
     },
     "execution_count": 143,
     "metadata": {},
     "output_type": "execute_result"
    },
    {
     "data": {
      "image/png": "[encoded data removed]",
      "text/plain": [
       "<Figure size 432x288 with 1 Axes>"
      ]
     },
     "metadata": {
      "needs_background": "light"
     },
     "output_type": "display_data"
    }
   ],
   "source": [
    "sns.histplot(data['Age'])"
   ]
  },
  {
   "cell_type": "code",
   "execution_count": 144,
   "id": "addecadd",
   "metadata": {},
   "outputs": [
    {
     "name": "stderr",
     "output_type": "stream",
     "text": [
      "C:\\Users\\balas\\anaconda3\\lib\\site-packages\\seaborn\\_decorators.py:36: FutureWarning: Pass the following variable as a keyword arg: x. From version 0.12, the only valid positional argument will be `data`, and passing other arguments without an explicit keyword will result in an error or misinterpretation.\n",
      "  warnings.warn(\n"
     ]
    },
    {
     "data": {
      "text/plain": [
       "<AxesSubplot:xlabel='Age'>"
      ]
     },
     "execution_count": 144,
     "metadata": {},
     "output_type": "execute_result"
    },
    {
     "data": {
      "image/png": "[encoded data removed]",
      "text/plain": [
       "<Figure size 432x288 with 1 Axes>"
      ]
     },
     "metadata": {
      "needs_background": "light"
     },
     "output_type": "display_data"
    }
   ],
   "source": [
    "sns.boxplot(data['Age'])"
   ]
  },
  {
   "cell_type": "code",
   "execution_count": 145,
   "id": "2a98033c",
   "metadata": {},
   "outputs": [
    {
     "name": "stderr",
     "output_type": "stream",
     "text": [
      "C:\\Users\\balas\\anaconda3\\lib\\site-packages\\seaborn\\distributions.py:2619: FutureWarning: `distplot` is a deprecated function and will be removed in a future version. Please adapt your code to use either `displot` (a figure-level function with similar flexibility) or `histplot` (an axes-level function for histograms).\n",
      "  warnings.warn(msg, FutureWarning)\n"
     ]
    },
    {
     "data": {
      "text/plain": [
       "<AxesSubplot:xlabel='Annual Income (k$)', ylabel='Density'>"
      ]
     },
     "execution_count": 145,
     "metadata": {},
     "output_type": "execute_result"
    },
    {
     "data": {
      "image/png": "[encoded data removed]",
      "text/plain": [
       "<Figure size 432x288 with 1 Axes>"
      ]
     },
     "metadata": {
      "needs_background": "light"
     },
     "output_type": "display_data"
    }
   ],
   "source": [
    "sns.distplot(data['Annual Income (k$)'])"
   ]
  },
  {
   "cell_type": "code",
   "execution_count": 146,
   "id": "0dbe196c",
   "metadata": {},
   "outputs": [
    {
     "data": {
      "text/plain": [
       "<AxesSubplot:xlabel='Annual Income (k$)', ylabel='Count'>"
      ]
     },
     "execution_count": 146,
     "metadata": {},
     "output_type": "execute_result"
    },
    {
     "data": {
      "image/png": "[encoded data removed]",
      "text/plain": [
       "<Figure size 432x288 with 1 Axes>"
      ]
     },
     "metadata": {
      "needs_background": "light"
     },
     "output_type": "display_data"
    }
   ],
   "source": [
    "sns.histplot(data['Annual Income (k$)'])"
   ]
  },
  {
   "cell_type": "code",
   "execution_count": 147,
   "id": "1e12197c",
   "metadata": {},
   "outputs": [
    {
     "name": "stderr",
     "output_type": "stream",
     "text": [
      "C:\\Users\\balas\\anaconda3\\lib\\site-packages\\seaborn\\_decorators.py:36: FutureWarning: Pass the following variable as a keyword arg: x. From version 0.12, the only valid positional argument will be `data`, and passing other arguments without an explicit keyword will result in an error or misinterpretation.\n",
      "  warnings.warn(\n"
     ]
    },
    {
     "data": {
      "text/plain": [
       "<AxesSubplot:xlabel='Annual Income (k$)'>"
      ]
     },
     "execution_count": 147,
     "metadata": {},
     "output_type": "execute_result"
    },
    {
     "data": {
      "image/png": "[encoded data removed]",
      "text/plain": [
       "<Figure size 432x288 with 1 Axes>"
      ]
     },
     "metadata": {
      "needs_background": "light"
     },
     "output_type": "display_data"
    }
   ],
   "source": [
    "sns.boxplot(data['Annual Income (k$)'])"
   ]
  },
  {
   "cell_type": "code",
   "execution_count": 148,
   "id": "4c5008bc",
   "metadata": {},
   "outputs": [
    {
     "name": "stderr",
     "output_type": "stream",
     "text": [
      "C:\\Users\\balas\\anaconda3\\lib\\site-packages\\seaborn\\distributions.py:2619: FutureWarning: `distplot` is a deprecated function and will be removed in a future version. Please adapt your code to use either `displot` (a figure-level function with similar flexibility) or `histplot` (an axes-level function for histograms).\n",
      "  warnings.warn(msg, FutureWarning)\n"
     ]
    },
    {
     "data": {
      "text/plain": [
       "<AxesSubplot:xlabel='Spending Score (1-100)', ylabel='Density'>"
      ]
     },
     "execution_count": 148,
     "metadata": {},
     "output_type": "execute_result"
    },
    {
     "data": {
      "image/png": "[encoded data removed]",
      "text/plain": [
       "<Figure size 432x288 with 1 Axes>"
      ]
     },
     "metadata": {
      "needs_background": "light"
     },
     "output_type": "display_data"
    }
   ],
   "source": [
    "sns.distplot(data['Spending Score (1-100)'])"
   ]
  },
  {
   "cell_type": "code",
   "execution_count": 149,
   "id": "a2aa913e",
   "metadata": {},
   "outputs": [
    {
     "data": {
      "text/plain": [
       "<AxesSubplot:xlabel='Spending Score (1-100)', ylabel='Count'>"
      ]
     },
     "execution_count": 149,
     "metadata": {},
     "output_type": "execute_result"
    },
    {
     "data": {
      "image/png": "[encoded data removed]",
      "text/plain": [
       "<Figure size 432x288 with 1 Axes>"
      ]
     },
     "metadata": {
      "needs_background": "light"
     },
     "output_type": "display_data"
    }
   ],
   "source": [
    "sns.histplot(data['Spending Score (1-100)'])"
   ]
  },
  {
   "cell_type": "code",
   "execution_count": 150,
   "id": "d45a9ca5",
   "metadata": {},
   "outputs": [
    {
     "name": "stderr",
     "output_type": "stream",
     "text": [
      "C:\\Users\\balas\\anaconda3\\lib\\site-packages\\seaborn\\_decorators.py:36: FutureWarning: Pass the following variable as a keyword arg: x. From version 0.12, the only valid positional argument will be `data`, and passing other arguments without an explicit keyword will result in an error or misinterpretation.\n",
      "  warnings.warn(\n"
     ]
    },
    {
     "data": {
      "text/plain": [
       "<AxesSubplot:xlabel='Spending Score (1-100)'>"
      ]
     },
     "execution_count": 150,
     "metadata": {},
     "output_type": "execute_result"
    },
    {
     "data": {
      "image/png": "[encoded data removed]",
      "text/plain": [
       "<Figure size 432x288 with 1 Axes>"
      ]
     },
     "metadata": {
      "needs_background": "light"
     },
     "output_type": "display_data"
    }
   ],
   "source": [
    "sns.boxplot(data['Spending Score (1-100)'])"
   ]
  },
  {
   "cell_type": "markdown",
   "id": "e74588d1",
   "metadata": {},
   "source": [
    "### Bivariate Analysis"
   ]
  },
  {
   "cell_type": "code",
   "execution_count": 151,
   "id": "208bc202",
   "metadata": {},
   "outputs": [
    {
     "name": "stderr",
     "output_type": "stream",
     "text": [
      "C:\\Users\\balas\\anaconda3\\lib\\site-packages\\seaborn\\_decorators.py:36: FutureWarning: Pass the following variables as keyword args: x, y. From version 0.12, the only valid positional argument will be `data`, and passing other arguments without an explicit keyword will result in an error or misinterpretation.\n",
      "  warnings.warn(\n"
     ]
    },
    {
     "data": {
      "text/plain": [
       "<AxesSubplot:xlabel='Gender', ylabel='CustomerID'>"
      ]
     },
     "execution_count": 151,
     "metadata": {},
     "output_type": "execute_result"
    },
    {
     "data": {
      "image/png": "[encoded data removed]",
      "text/plain": [
       "<Figure size 432x288 with 1 Axes>"
      ]
     },
     "metadata": {
      "needs_background": "light"
     },
     "output_type": "display_data"
    }
   ],
   "source": [
    "sns.lineplot(data['Gender'], data['CustomerID'])"
   ]
  },
  {
   "cell_type": "code",
   "execution_count": 152,
   "id": "aaab58e5",
   "metadata": {},
   "outputs": [
    {
     "name": "stderr",
     "output_type": "stream",
     "text": [
      "C:\\Users\\balas\\anaconda3\\lib\\site-packages\\seaborn\\_decorators.py:36: FutureWarning: Pass the following variables as keyword args: x, y. From version 0.12, the only valid positional argument will be `data`, and passing other arguments without an explicit keyword will result in an error or misinterpretation.\n",
      "  warnings.warn(\n"
     ]
    },
    {
     "data": {
      "text/plain": [
       "<AxesSubplot:xlabel='Gender', ylabel='CustomerID'>"
      ]
     },
     "execution_count": 152,
     "metadata": {},
     "output_type": "execute_result"
    },
    {
     "data": {
      "image/png": "[encoded data removed]",
      "text/plain": [
       "<Figure size 432x288 with 1 Axes>"
      ]
     },
     "metadata": {
      "needs_background": "light"
     },
     "output_type": "display_data"
    }
   ],
   "source": [
    "sns.barplot(data['Gender'], data['CustomerID'])"
   ]
  },
  {
   "cell_type": "code",
   "execution_count": 153,
   "id": "498b1824",
   "metadata": {},
   "outputs": [
    {
     "name": "stderr",
     "output_type": "stream",
     "text": [
      "C:\\Users\\balas\\anaconda3\\lib\\site-packages\\seaborn\\_decorators.py:36: FutureWarning: Pass the following variables as keyword args: x, y. From version 0.12, the only valid positional argument will be `data`, and passing other arguments without an explicit keyword will result in an error or misinterpretation.\n",
      "  warnings.warn(\n"
     ]
    },
    {
     "data": {
      "text/plain": [
       "<AxesSubplot:xlabel='Gender', ylabel='CustomerID'>"
      ]
     },
     "execution_count": 153,
     "metadata": {},
     "output_type": "execute_result"
    },
    {
     "data": {
      "image/png": "[encoded data removed]",
      "text/plain": [
       "<Figure size 432x288 with 1 Axes>"
      ]
     },
     "metadata": {
      "needs_background": "light"
     },
     "output_type": "display_data"
    }
   ],
   "source": [
    "sns.scatterplot(data['Gender'], data['CustomerID'])"
   ]
  },
  {
   "cell_type": "code",
   "execution_count": 154,
   "id": "b062d353",
   "metadata": {},
   "outputs": [
    {
     "name": "stderr",
     "output_type": "stream",
     "text": [
      "C:\\Users\\balas\\anaconda3\\lib\\site-packages\\seaborn\\_decorators.py:36: FutureWarning: Pass the following variables as keyword args: x, y. From version 0.12, the only valid positional argument will be `data`, and passing other arguments without an explicit keyword will result in an error or misinterpretation.\n",
      "  warnings.warn(\n"
     ]
    },
    {
     "data": {
      "text/plain": [
       "<AxesSubplot:xlabel='Age', ylabel='Annual Income (k$)'>"
      ]
     },
     "execution_count": 154,
     "metadata": {},
     "output_type": "execute_result"
    },
    {
     "data": {
      "image/png": "[encoded data removed]",
      "text/plain": [
       "<Figure size 432x288 with 1 Axes>"
      ]
     },
     "metadata": {
      "needs_background": "light"
     },
     "output_type": "display_data"
    }
   ],
   "source": [
    "sns.lineplot(data['Age'], data['Annual Income (k$)'])"
   ]
  },
  {
   "cell_type": "code",
   "execution_count": 155,
   "id": "387a45ea",
   "metadata": {},
   "outputs": [
    {
     "name": "stderr",
     "output_type": "stream",
     "text": [
      "C:\\Users\\balas\\anaconda3\\lib\\site-packages\\seaborn\\_decorators.py:36: FutureWarning: Pass the following variables as keyword args: x, y. From version 0.12, the only valid positional argument will be `data`, and passing other arguments without an explicit keyword will result in an error or misinterpretation.\n",
      "  warnings.warn(\n"
     ]
    },
    {
     "data": {
      "text/plain": [
       "<AxesSubplot:xlabel='Age', ylabel='Annual Income (k$)'>"
      ]
     },
     "execution_count": 155,
     "metadata": {},
     "output_type": "execute_result"
    },
    {
     "data": {
      "image/png": "[encoded data removed]",
      "text/plain": [
       "<Figure size 432x288 with 1 Axes>"
      ]
     },
     "metadata": {
      "needs_background": "light"
     },
     "output_type": "display_data"
    }
   ],
   "source": [
    "sns.barplot(data['Age'], data['Annual Income (k$)'])"
   ]
  },
  {
   "cell_type": "code",
   "execution_count": 156,
   "id": "e19a8ca8",
   "metadata": {},
   "outputs": [
    {
     "name": "stderr",
     "output_type": "stream",
     "text": [
      "C:\\Users\\balas\\anaconda3\\lib\\site-packages\\seaborn\\_decorators.py:36: FutureWarning: Pass the following variables as keyword args: x, y. From version 0.12, the only valid positional argument will be `data`, and passing other arguments without an explicit keyword will result in an error or misinterpretation.\n",
      "  warnings.warn(\n"
     ]
    },
    {
     "data": {
      "text/plain": [
       "<AxesSubplot:xlabel='Age', ylabel='Annual Income (k$)'>"
      ]
     },
     "execution_count": 156,
     "metadata": {},
     "output_type": "execute_result"
    },
    {
     "data": {
      "image/png": "[encoded data removed]",
      "text/plain": [
       "<Figure size 432x288 with 1 Axes>"
      ]
     },
     "metadata": {
      "needs_background": "light"
     },
     "output_type": "display_data"
    }
   ],
   "source": [
    "sns.scatterplot(data['Age'], data['Annual Income (k$)'])"
   ]
  },
  {
   "cell_type": "markdown",
   "id": "4f90e6e2",
   "metadata": {},
   "source": [
    "### Multivariate Analysis"
   ]
  },
  {
   "cell_type": "code",
   "execution_count": 157,
   "id": "02b84a74",
   "metadata": {},
   "outputs": [
    {
     "name": "stderr",
     "output_type": "stream",
     "text": [
      "C:\\Users\\balas\\anaconda3\\lib\\site-packages\\seaborn\\_decorators.py:36: FutureWarning: Pass the following variables as keyword args: x, y. From version 0.12, the only valid positional argument will be `data`, and passing other arguments without an explicit keyword will result in an error or misinterpretation.\n",
      "  warnings.warn(\n"
     ]
    },
    {
     "data": {
      "text/plain": [
       "<AxesSubplot:xlabel='CustomerID', ylabel='Age'>"
      ]
     },
     "execution_count": 157,
     "metadata": {},
     "output_type": "execute_result"
    },
    {
     "data": {
      "image/png": "[encoded data removed]",
      "text/plain": [
       "<Figure size 432x288 with 1 Axes>"
      ]
     },
     "metadata": {
      "needs_background": "light"
     },
     "output_type": "display_data"
    }
   ],
   "source": [
    "sns.lineplot(data['CustomerID'], data['Age'], hue = data['Gender'])"
   ]
  },
  {
   "cell_type": "code",
   "execution_count": 158,
   "id": "a81afb53",
   "metadata": {},
   "outputs": [
    {
     "name": "stderr",
     "output_type": "stream",
     "text": [
      "C:\\Users\\balas\\anaconda3\\lib\\site-packages\\seaborn\\_decorators.py:36: FutureWarning: Pass the following variables as keyword args: x, y. From version 0.12, the only valid positional argument will be `data`, and passing other arguments without an explicit keyword will result in an error or misinterpretation.\n",
      "  warnings.warn(\n"
     ]
    },
    {
     "data": {
      "text/plain": [
       "<AxesSubplot:xlabel='CustomerID', ylabel='Age'>"
      ]
     },
     "execution_count": 158,
     "metadata": {},
     "output_type": "execute_result"
    },
    {
     "data": {
      "image/png": "[encoded data removed]",
      "text/plain": [
       "<Figure size 432x288 with 1 Axes>"
      ]
     },
     "metadata": {
      "needs_background": "light"
     },
     "output_type": "display_data"
    }
   ],
   "source": [
    "sns.barplot(data['CustomerID'], data['Age'], hue = data['Gender'])"
   ]
  },
  {
   "cell_type": "code",
   "execution_count": 159,
   "id": "258f1bc1",
   "metadata": {},
   "outputs": [
    {
     "name": "stderr",
     "output_type": "stream",
     "text": [
      "C:\\Users\\balas\\anaconda3\\lib\\site-packages\\seaborn\\_decorators.py:36: FutureWarning: Pass the following variables as keyword args: x, y. From version 0.12, the only valid positional argument will be `data`, and passing other arguments without an explicit keyword will result in an error or misinterpretation.\n",
      "  warnings.warn(\n"
     ]
    },
    {
     "data": {
      "text/plain": [
       "<AxesSubplot:xlabel='CustomerID', ylabel='Age'>"
      ]
     },
     "execution_count": 159,
     "metadata": {},
     "output_type": "execute_result"
    },
    {
     "data": {
      "image/png": "[encoded data removed]",
      "text/plain": [
       "<Figure size 432x288 with 1 Axes>"
      ]
     },
     "metadata": {
      "needs_background": "light"
     },
     "output_type": "display_data"
    }
   ],
   "source": [
    "sns.scatterplot(data['CustomerID'], data['Age'], hue = data['Gender'])"
   ]
  },
  {
   "cell_type": "code",
   "execution_count": 160,
   "id": "b6db90fa",
   "metadata": {},
   "outputs": [
    {
     "name": "stderr",
     "output_type": "stream",
     "text": [
      "C:\\Users\\balas\\anaconda3\\lib\\site-packages\\seaborn\\_decorators.py:36: FutureWarning: Pass the following variables as keyword args: x, y. From version 0.12, the only valid positional argument will be `data`, and passing other arguments without an explicit keyword will result in an error or misinterpretation.\n",
      "  warnings.warn(\n"
     ]
    },
    {
     "data": {
      "text/plain": [
       "<AxesSubplot:xlabel='Annual Income (k$)', ylabel='Spending Score (1-100)'>"
      ]
     },
     "execution_count": 160,
     "metadata": {},
     "output_type": "execute_result"
    },
    {
     "data": {
      "image/png": "[encoded data removed]",
      "text/plain": [
       "<Figure size 432x288 with 1 Axes>"
      ]
     },
     "metadata": {
      "needs_background": "light"
     },
     "output_type": "display_data"
    }
   ],
   "source": [
    "sns.lineplot(data['Annual Income (k$)'], data['Spending Score (1-100)'], hue = data['Age'])"
   ]
  },
  {
   "cell_type": "code",
   "execution_count": 161,
   "id": "67dc08ae",
   "metadata": {},
   "outputs": [
    {
     "name": "stderr",
     "output_type": "stream",
     "text": [
      "C:\\Users\\balas\\anaconda3\\lib\\site-packages\\seaborn\\_decorators.py:36: FutureWarning: Pass the following variables as keyword args: x, y. From version 0.12, the only valid positional argument will be `data`, and passing other arguments without an explicit keyword will result in an error or misinterpretation.\n",
      "  warnings.warn(\n"
     ]
    },
    {
     "data": {
      "text/plain": [
       "<AxesSubplot:xlabel='Annual Income (k$)', ylabel='Spending Score (1-100)'>"
      ]
     },
     "execution_count": 161,
     "metadata": {},
     "output_type": "execute_result"
    },
    {
     "data": {
      "image/png": "[encoded data removed]",
      "text/plain": [
       "<Figure size 432x288 with 1 Axes>"
      ]
     },
     "metadata": {
      "needs_background": "light"
     },
     "output_type": "display_data"
    }
   ],
   "source": [
    "sns.barplot(data['Annual Income (k$)'], data['Spending Score (1-100)'], hue = data['Age'])"
   ]
  },
  {
   "cell_type": "code",
   "execution_count": 162,
   "id": "3c7e9503",
   "metadata": {},
   "outputs": [
    {
     "name": "stderr",
     "output_type": "stream",
     "text": [
      "C:\\Users\\balas\\anaconda3\\lib\\site-packages\\seaborn\\_decorators.py:36: FutureWarning: Pass the following variables as keyword args: x, y. From version 0.12, the only valid positional argument will be `data`, and passing other arguments without an explicit keyword will result in an error or misinterpretation.\n",
      "  warnings.warn(\n"
     ]
    },
    {
     "data": {
      "text/plain": [
       "<AxesSubplot:xlabel='Annual Income (k$)', ylabel='Spending Score (1-100)'>"
      ]
     },
     "execution_count": 162,
     "metadata": {},
     "output_type": "execute_result"
    },
    {
     "data": {
      "image/png": "[encoded data removed]",
      "text/plain": [
       "<Figure size 432x288 with 1 Axes>"
      ]
     },
     "metadata": {
      "needs_background": "light"
     },
     "output_type": "display_data"
    }
   ],
   "source": [
    "sns.scatterplot(data['Annual Income (k$)'], data['Spending Score (1-100)'], hue = data['Age'])"
   ]
  },
  {
   "cell_type": "markdown",
   "id": "37675164",
   "metadata": {},
   "source": [
    "### Descriptive statistics"
   ]
  },
  {
   "cell_type": "code",
   "execution_count": 163,
   "id": "3f24db43",
   "metadata": {},
   "outputs": [
    {
     "name": "stderr",
     "output_type": "stream",
     "text": [
      "C:\\Users\\balas\\AppData\\Local\\Temp\\ipykernel_12512\\531903386.py:1: FutureWarning: Dropping of nuisance columns in DataFrame reductions (with 'numeric_only=None') is deprecated; in a future version this will raise TypeError.  Select only valid columns before calling the reduction.\n",
      "  data.mean()\n"
     ]
    },
    {
     "data": {
      "text/plain": [
       "CustomerID                100.50\n",
       "Age                        38.85\n",
       "Annual Income (k$)         60.56\n",
       "Spending Score (1-100)     50.20\n",
       "dtype: float64"
      ]
     },
     "execution_count": 163,
     "metadata": {},
     "output_type": "execute_result"
    }
   ],
   "source": [
    "data.mean()"
   ]
  },
  {
   "cell_type": "code",
   "execution_count": 164,
   "id": "86dabb2d",
   "metadata": {},
   "outputs": [
    {
     "data": {
      "text/html": [
       "<div>\n",
       "<style scoped>\n",
       "    .dataframe tbody tr th:only-of-type {\n",
       "        vertical-align: middle;\n",
       "    }\n",
       "\n",
       "    .dataframe tbody tr th {\n",
       "        vertical-align: top;\n",
       "    }\n",
       "\n",
       "    .dataframe thead th {\n",
       "        text-align: right;\n",
       "    }\n",
       "</style>\n",
       "<table border=\"1\" class=\"dataframe\">\n",
       "  <thead>\n",
       "    <tr style=\"text-align: right;\">\n",
       "      <th></th>\n",
       "      <th>CustomerID</th>\n",
       "      <th>Gender</th>\n",
       "      <th>Age</th>\n",
       "      <th>Annual Income (k$)</th>\n",
       "      <th>Spending Score (1-100)</th>\n",
       "    </tr>\n",
       "  </thead>\n",
       "  <tbody>\n",
       "    <tr>\n",
       "      <th>0</th>\n",
       "      <td>1</td>\n",
       "      <td>Female</td>\n",
       "      <td>32.0</td>\n",
       "      <td>54.0</td>\n",
       "      <td>42.0</td>\n",
       "    </tr>\n",
       "    <tr>\n",
       "      <th>1</th>\n",
       "      <td>2</td>\n",
       "      <td>NaN</td>\n",
       "      <td>NaN</td>\n",
       "      <td>78.0</td>\n",
       "      <td>NaN</td>\n",
       "    </tr>\n",
       "    <tr>\n",
       "      <th>2</th>\n",
       "      <td>3</td>\n",
       "      <td>NaN</td>\n",
       "      <td>NaN</td>\n",
       "      <td>NaN</td>\n",
       "      <td>NaN</td>\n",
       "    </tr>\n",
       "    <tr>\n",
       "      <th>3</th>\n",
       "      <td>4</td>\n",
       "      <td>NaN</td>\n",
       "      <td>NaN</td>\n",
       "      <td>NaN</td>\n",
       "      <td>NaN</td>\n",
       "    </tr>\n",
       "    <tr>\n",
       "      <th>4</th>\n",
       "      <td>5</td>\n",
       "      <td>NaN</td>\n",
       "      <td>NaN</td>\n",
       "      <td>NaN</td>\n",
       "      <td>NaN</td>\n",
       "    </tr>\n",
       "    <tr>\n",
       "      <th>...</th>\n",
       "      <td>...</td>\n",
       "      <td>...</td>\n",
       "      <td>...</td>\n",
       "      <td>...</td>\n",
       "      <td>...</td>\n",
       "    </tr>\n",
       "    <tr>\n",
       "      <th>195</th>\n",
       "      <td>196</td>\n",
       "      <td>NaN</td>\n",
       "      <td>NaN</td>\n",
       "      <td>NaN</td>\n",
       "      <td>NaN</td>\n",
       "    </tr>\n",
       "    <tr>\n",
       "      <th>196</th>\n",
       "      <td>197</td>\n",
       "      <td>NaN</td>\n",
       "      <td>NaN</td>\n",
       "      <td>NaN</td>\n",
       "      <td>NaN</td>\n",
       "    </tr>\n",
       "    <tr>\n",
       "      <th>197</th>\n",
       "      <td>198</td>\n",
       "      <td>NaN</td>\n",
       "      <td>NaN</td>\n",
       "      <td>NaN</td>\n",
       "      <td>NaN</td>\n",
       "    </tr>\n",
       "    <tr>\n",
       "      <th>198</th>\n",
       "      <td>199</td>\n",
       "      <td>NaN</td>\n",
       "      <td>NaN</td>\n",
       "      <td>NaN</td>\n",
       "      <td>NaN</td>\n",
       "    </tr>\n",
       "    <tr>\n",
       "      <th>199</th>\n",
       "      <td>200</td>\n",
       "      <td>NaN</td>\n",
       "      <td>NaN</td>\n",
       "      <td>NaN</td>\n",
       "      <td>NaN</td>\n",
       "    </tr>\n",
       "  </tbody>\n",
       "</table>\n",
       "<p>200 rows × 5 columns</p>\n",
       "</div>"
      ],
      "text/plain": [
       "     CustomerID  Gender   Age  Annual Income (k$)  Spending Score (1-100)\n",
       "0             1  Female  32.0                54.0                    42.0\n",
       "1             2     NaN   NaN                78.0                     NaN\n",
       "2             3     NaN   NaN                 NaN                     NaN\n",
       "3             4     NaN   NaN                 NaN                     NaN\n",
       "4             5     NaN   NaN                 NaN                     NaN\n",
       "..          ...     ...   ...                 ...                     ...\n",
       "195         196     NaN   NaN                 NaN                     NaN\n",
       "196         197     NaN   NaN                 NaN                     NaN\n",
       "197         198     NaN   NaN                 NaN                     NaN\n",
       "198         199     NaN   NaN                 NaN                     NaN\n",
       "199         200     NaN   NaN                 NaN                     NaN\n",
       "\n",
       "[200 rows x 5 columns]"
      ]
     },
     "execution_count": 164,
     "metadata": {},
     "output_type": "execute_result"
    }
   ],
   "source": [
    "data.mode()"
   ]
  },
  {
   "cell_type": "code",
   "execution_count": 165,
   "id": "d3738413",
   "metadata": {},
   "outputs": [
    {
     "name": "stderr",
     "output_type": "stream",
     "text": [
      "C:\\Users\\balas\\AppData\\Local\\Temp\\ipykernel_12512\\4184645713.py:1: FutureWarning: Dropping of nuisance columns in DataFrame reductions (with 'numeric_only=None') is deprecated; in a future version this will raise TypeError.  Select only valid columns before calling the reduction.\n",
      "  data.median()\n"
     ]
    },
    {
     "data": {
      "text/plain": [
       "CustomerID                100.5\n",
       "Age                        36.0\n",
       "Annual Income (k$)         61.5\n",
       "Spending Score (1-100)     50.0\n",
       "dtype: float64"
      ]
     },
     "execution_count": 165,
     "metadata": {},
     "output_type": "execute_result"
    }
   ],
   "source": [
    "data.median()"
   ]
  },
  {
   "cell_type": "code",
   "execution_count": 166,
   "id": "38e5e4a9",
   "metadata": {},
   "outputs": [
    {
     "name": "stderr",
     "output_type": "stream",
     "text": [
      "C:\\Users\\balas\\AppData\\Local\\Temp\\ipykernel_12512\\445316826.py:1: FutureWarning: Dropping of nuisance columns in DataFrame reductions (with 'numeric_only=None') is deprecated; in a future version this will raise TypeError.  Select only valid columns before calling the reduction.\n",
      "  data.var()\n"
     ]
    },
    {
     "data": {
      "text/plain": [
       "CustomerID                3350.000000\n",
       "Age                        195.133166\n",
       "Annual Income (k$)         689.835578\n",
       "Spending Score (1-100)     666.854271\n",
       "dtype: float64"
      ]
     },
     "execution_count": 166,
     "metadata": {},
     "output_type": "execute_result"
    }
   ],
   "source": [
    "data.var()"
   ]
  },
  {
   "cell_type": "code",
   "execution_count": 167,
   "id": "eab06fb3",
   "metadata": {},
   "outputs": [
    {
     "name": "stderr",
     "output_type": "stream",
     "text": [
      "C:\\Users\\balas\\AppData\\Local\\Temp\\ipykernel_12512\\2723740006.py:1: FutureWarning: Dropping of nuisance columns in DataFrame reductions (with 'numeric_only=None') is deprecated; in a future version this will raise TypeError.  Select only valid columns before calling the reduction.\n",
      "  data.std()\n"
     ]
    },
    {
     "data": {
      "text/plain": [
       "CustomerID                57.879185\n",
       "Age                       13.969007\n",
       "Annual Income (k$)        26.264721\n",
       "Spending Score (1-100)    25.823522\n",
       "dtype: float64"
      ]
     },
     "execution_count": 167,
     "metadata": {},
     "output_type": "execute_result"
    }
   ],
   "source": [
    "data.std()"
   ]
  },
  {
   "cell_type": "code",
   "execution_count": 168,
   "id": "7cbe9a59",
   "metadata": {},
   "outputs": [
    {
     "data": {
      "text/html": [
       "<div>\n",
       "<style scoped>\n",
       "    .dataframe tbody tr th:only-of-type {\n",
       "        vertical-align: middle;\n",
       "    }\n",
       "\n",
       "    .dataframe tbody tr th {\n",
       "        vertical-align: top;\n",
       "    }\n",
       "\n",
       "    .dataframe thead th {\n",
       "        text-align: right;\n",
       "    }\n",
       "</style>\n",
       "<table border=\"1\" class=\"dataframe\">\n",
       "  <thead>\n",
       "    <tr style=\"text-align: right;\">\n",
       "      <th></th>\n",
       "      <th>CustomerID</th>\n",
       "      <th>Age</th>\n",
       "      <th>Annual Income (k$)</th>\n",
       "      <th>Spending Score (1-100)</th>\n",
       "    </tr>\n",
       "  </thead>\n",
       "  <tbody>\n",
       "    <tr>\n",
       "      <th>count</th>\n",
       "      <td>200.000000</td>\n",
       "      <td>200.000000</td>\n",
       "      <td>200.000000</td>\n",
       "      <td>200.000000</td>\n",
       "    </tr>\n",
       "    <tr>\n",
       "      <th>mean</th>\n",
       "      <td>100.500000</td>\n",
       "      <td>38.850000</td>\n",
       "      <td>60.560000</td>\n",
       "      <td>50.200000</td>\n",
       "    </tr>\n",
       "    <tr>\n",
       "      <th>std</th>\n",
       "      <td>57.879185</td>\n",
       "      <td>13.969007</td>\n",
       "      <td>26.264721</td>\n",
       "      <td>25.823522</td>\n",
       "    </tr>\n",
       "    <tr>\n",
       "      <th>min</th>\n",
       "      <td>1.000000</td>\n",
       "      <td>18.000000</td>\n",
       "      <td>15.000000</td>\n",
       "      <td>1.000000</td>\n",
       "    </tr>\n",
       "    <tr>\n",
       "      <th>25%</th>\n",
       "      <td>50.750000</td>\n",
       "      <td>28.750000</td>\n",
       "      <td>41.500000</td>\n",
       "      <td>34.750000</td>\n",
       "    </tr>\n",
       "    <tr>\n",
       "      <th>50%</th>\n",
       "      <td>100.500000</td>\n",
       "      <td>36.000000</td>\n",
       "      <td>61.500000</td>\n",
       "      <td>50.000000</td>\n",
       "    </tr>\n",
       "    <tr>\n",
       "      <th>75%</th>\n",
       "      <td>150.250000</td>\n",
       "      <td>49.000000</td>\n",
       "      <td>78.000000</td>\n",
       "      <td>73.000000</td>\n",
       "    </tr>\n",
       "    <tr>\n",
       "      <th>max</th>\n",
       "      <td>200.000000</td>\n",
       "      <td>70.000000</td>\n",
       "      <td>137.000000</td>\n",
       "      <td>99.000000</td>\n",
       "    </tr>\n",
       "  </tbody>\n",
       "</table>\n",
       "</div>"
      ],
      "text/plain": [
       "       CustomerID         Age  Annual Income (k$)  Spending Score (1-100)\n",
       "count  200.000000  200.000000          200.000000              200.000000\n",
       "mean   100.500000   38.850000           60.560000               50.200000\n",
       "std     57.879185   13.969007           26.264721               25.823522\n",
       "min      1.000000   18.000000           15.000000                1.000000\n",
       "25%     50.750000   28.750000           41.500000               34.750000\n",
       "50%    100.500000   36.000000           61.500000               50.000000\n",
       "75%    150.250000   49.000000           78.000000               73.000000\n",
       "max    200.000000   70.000000          137.000000               99.000000"
      ]
     },
     "execution_count": 168,
     "metadata": {},
     "output_type": "execute_result"
    }
   ],
   "source": [
    "data.describe()"
   ]
  },
  {
   "cell_type": "code",
   "execution_count": 169,
   "id": "e7c57fe6",
   "metadata": {},
   "outputs": [
    {
     "data": {
      "text/plain": [
       "array([19, 21, 20, 23, 31, 22, 35, 64, 30, 67, 58, 24, 37, 52, 25, 46, 54,\n",
       "       29, 45, 40, 60, 53, 18, 49, 42, 36, 65, 48, 50, 27, 33, 59, 47, 51,\n",
       "       69, 70, 63, 43, 68, 32, 26, 57, 38, 55, 34, 66, 39, 44, 28, 56, 41],\n",
       "      dtype=int64)"
      ]
     },
     "execution_count": 169,
     "metadata": {},
     "output_type": "execute_result"
    }
   ],
   "source": [
    "data['Age'].unique ()"
   ]
  },
  {
   "cell_type": "code",
   "execution_count": 170,
   "id": "111292f7",
   "metadata": {},
   "outputs": [
    {
     "data": {
      "text/plain": [
       "array(['Male', 'Female'], dtype=object)"
      ]
     },
     "execution_count": 170,
     "metadata": {},
     "output_type": "execute_result"
    }
   ],
   "source": [
    "data['Gender'].unique ()"
   ]
  },
  {
   "cell_type": "code",
   "execution_count": 171,
   "id": "206440cc",
   "metadata": {},
   "outputs": [
    {
     "data": {
      "text/plain": [
       "array([  1,   2,   3,   4,   5,   6,   7,   8,   9,  10,  11,  12,  13,\n",
       "        14,  15,  16,  17,  18,  19,  20,  21,  22,  23,  24,  25,  26,\n",
       "        27,  28,  29,  30,  31,  32,  33,  34,  35,  36,  37,  38,  39,\n",
       "        40,  41,  42,  43,  44,  45,  46,  47,  48,  49,  50,  51,  52,\n",
       "        53,  54,  55,  56,  57,  58,  59,  60,  61,  62,  63,  64,  65,\n",
       "        66,  67,  68,  69,  70,  71,  72,  73,  74,  75,  76,  77,  78,\n",
       "        79,  80,  81,  82,  83,  84,  85,  86,  87,  88,  89,  90,  91,\n",
       "        92,  93,  94,  95,  96,  97,  98,  99, 100, 101, 102, 103, 104,\n",
       "       105, 106, 107, 108, 109, 110, 111, 112, 113, 114, 115, 116, 117,\n",
       "       118, 119, 120, 121, 122, 123, 124, 125, 126, 127, 128, 129, 130,\n",
       "       131, 132, 133, 134, 135, 136, 137, 138, 139, 140, 141, 142, 143,\n",
       "       144, 145, 146, 147, 148, 149, 150, 151, 152, 153, 154, 155, 156,\n",
       "       157, 158, 159, 160, 161, 162, 163, 164, 165, 166, 167, 168, 169,\n",
       "       170, 171, 172, 173, 174, 175, 176, 177, 178, 179, 180, 181, 182,\n",
       "       183, 184, 185, 186, 187, 188, 189, 190, 191, 192, 193, 194, 195,\n",
       "       196, 197, 198, 199, 200], dtype=int64)"
      ]
     },
     "execution_count": 171,
     "metadata": {},
     "output_type": "execute_result"
    }
   ],
   "source": [
    "data['CustomerID'].unique ()"
   ]
  },
  {
   "cell_type": "code",
   "execution_count": 172,
   "id": "47234396",
   "metadata": {},
   "outputs": [
    {
     "data": {
      "text/plain": [
       "array([ 15,  16,  17,  18,  19,  20,  21,  23,  24,  25,  28,  29,  30,\n",
       "        33,  34,  37,  38,  39,  40,  42,  43,  44,  46,  47,  48,  49,\n",
       "        50,  54,  57,  58,  59,  60,  61,  62,  63,  64,  65,  67,  69,\n",
       "        70,  71,  72,  73,  74,  75,  76,  77,  78,  79,  81,  85,  86,\n",
       "        87,  88,  93,  97,  98,  99, 101, 103, 113, 120, 126, 137],\n",
       "      dtype=int64)"
      ]
     },
     "execution_count": 172,
     "metadata": {},
     "output_type": "execute_result"
    }
   ],
   "source": [
    "data['Annual Income (k$)'].unique ()"
   ]
  },
  {
   "cell_type": "code",
   "execution_count": 173,
   "id": "ccee3bcd",
   "metadata": {},
   "outputs": [
    {
     "data": {
      "text/plain": [
       "array([39, 81,  6, 77, 40, 76, 94,  3, 72, 14, 99, 15, 13, 79, 35, 66, 29,\n",
       "       98, 73,  5, 82, 32, 61, 31, 87,  4, 92, 17, 26, 75, 36, 28, 65, 55,\n",
       "       47, 42, 52, 60, 54, 45, 41, 50, 46, 51, 56, 59, 48, 49, 53, 44, 57,\n",
       "       58, 43, 91, 95, 11,  9, 34, 71, 88,  7, 10, 93, 12, 97, 74, 22, 90,\n",
       "       20, 16, 89,  1, 78, 83, 27, 63, 86, 69, 24, 68, 85, 23,  8, 18],\n",
       "      dtype=int64)"
      ]
     },
     "execution_count": 173,
     "metadata": {},
     "output_type": "execute_result"
    }
   ],
   "source": [
    "data['Spending Score (1-100)'].unique ()"
   ]
  },
  {
   "cell_type": "markdown",
   "id": "fdb8ef57",
   "metadata": {},
   "source": [
    "### Check for Missing values and deal with them."
   ]
  },
  {
   "cell_type": "code",
   "execution_count": 174,
   "id": "ce6e81c6",
   "metadata": {},
   "outputs": [
    {
     "data": {
      "text/plain": [
       "CustomerID                False\n",
       "Gender                    False\n",
       "Age                       False\n",
       "Annual Income (k$)        False\n",
       "Spending Score (1-100)    False\n",
       "dtype: bool"
      ]
     },
     "execution_count": 174,
     "metadata": {},
     "output_type": "execute_result"
    }
   ],
   "source": [
    "data.isnull().any()"
   ]
  },
  {
   "cell_type": "code",
   "execution_count": 175,
   "id": "e4dad884",
   "metadata": {},
   "outputs": [
    {
     "data": {
      "text/plain": [
       "CustomerID                0\n",
       "Gender                    0\n",
       "Age                       0\n",
       "Annual Income (k$)        0\n",
       "Spending Score (1-100)    0\n",
       "dtype: int64"
      ]
     },
     "execution_count": 175,
     "metadata": {},
     "output_type": "execute_result"
    }
   ],
   "source": [
    "data.isnull().sum()"
   ]
  },
  {
   "cell_type": "code",
   "execution_count": 176,
   "id": "bf761509",
   "metadata": {},
   "outputs": [
    {
     "data": {
      "text/html": [
       "<div>\n",
       "<style scoped>\n",
       "    .dataframe tbody tr th:only-of-type {\n",
       "        vertical-align: middle;\n",
       "    }\n",
       "\n",
       "    .dataframe tbody tr th {\n",
       "        vertical-align: top;\n",
       "    }\n",
       "\n",
       "    .dataframe thead th {\n",
       "        text-align: right;\n",
       "    }\n",
       "</style>\n",
       "<table border=\"1\" class=\"dataframe\">\n",
       "  <thead>\n",
       "    <tr style=\"text-align: right;\">\n",
       "      <th></th>\n",
       "      <th>CustomerID</th>\n",
       "      <th>Gender</th>\n",
       "      <th>Age</th>\n",
       "      <th>Annual Income (k$)</th>\n",
       "      <th>Spending Score (1-100)</th>\n",
       "    </tr>\n",
       "  </thead>\n",
       "  <tbody>\n",
       "    <tr>\n",
       "      <th>0</th>\n",
       "      <td>1</td>\n",
       "      <td>Female</td>\n",
       "      <td>32.0</td>\n",
       "      <td>54.0</td>\n",
       "      <td>42.0</td>\n",
       "    </tr>\n",
       "    <tr>\n",
       "      <th>1</th>\n",
       "      <td>2</td>\n",
       "      <td>NaN</td>\n",
       "      <td>NaN</td>\n",
       "      <td>78.0</td>\n",
       "      <td>NaN</td>\n",
       "    </tr>\n",
       "    <tr>\n",
       "      <th>2</th>\n",
       "      <td>3</td>\n",
       "      <td>NaN</td>\n",
       "      <td>NaN</td>\n",
       "      <td>NaN</td>\n",
       "      <td>NaN</td>\n",
       "    </tr>\n",
       "    <tr>\n",
       "      <th>3</th>\n",
       "      <td>4</td>\n",
       "      <td>NaN</td>\n",
       "      <td>NaN</td>\n",
       "      <td>NaN</td>\n",
       "      <td>NaN</td>\n",
       "    </tr>\n",
       "    <tr>\n",
       "      <th>4</th>\n",
       "      <td>5</td>\n",
       "      <td>NaN</td>\n",
       "      <td>NaN</td>\n",
       "      <td>NaN</td>\n",
       "      <td>NaN</td>\n",
       "    </tr>\n",
       "    <tr>\n",
       "      <th>...</th>\n",
       "      <td>...</td>\n",
       "      <td>...</td>\n",
       "      <td>...</td>\n",
       "      <td>...</td>\n",
       "      <td>...</td>\n",
       "    </tr>\n",
       "    <tr>\n",
       "      <th>195</th>\n",
       "      <td>196</td>\n",
       "      <td>NaN</td>\n",
       "      <td>NaN</td>\n",
       "      <td>NaN</td>\n",
       "      <td>NaN</td>\n",
       "    </tr>\n",
       "    <tr>\n",
       "      <th>196</th>\n",
       "      <td>197</td>\n",
       "      <td>NaN</td>\n",
       "      <td>NaN</td>\n",
       "      <td>NaN</td>\n",
       "      <td>NaN</td>\n",
       "    </tr>\n",
       "    <tr>\n",
       "      <th>197</th>\n",
       "      <td>198</td>\n",
       "      <td>NaN</td>\n",
       "      <td>NaN</td>\n",
       "      <td>NaN</td>\n",
       "      <td>NaN</td>\n",
       "    </tr>\n",
       "    <tr>\n",
       "      <th>198</th>\n",
       "      <td>199</td>\n",
       "      <td>NaN</td>\n",
       "      <td>NaN</td>\n",
       "      <td>NaN</td>\n",
       "      <td>NaN</td>\n",
       "    </tr>\n",
       "    <tr>\n",
       "      <th>199</th>\n",
       "      <td>200</td>\n",
       "      <td>NaN</td>\n",
       "      <td>NaN</td>\n",
       "      <td>NaN</td>\n",
       "      <td>NaN</td>\n",
       "    </tr>\n",
       "  </tbody>\n",
       "</table>\n",
       "<p>200 rows × 5 columns</p>\n",
       "</div>"
      ],
      "text/plain": [
       "     CustomerID  Gender   Age  Annual Income (k$)  Spending Score (1-100)\n",
       "0             1  Female  32.0                54.0                    42.0\n",
       "1             2     NaN   NaN                78.0                     NaN\n",
       "2             3     NaN   NaN                 NaN                     NaN\n",
       "3             4     NaN   NaN                 NaN                     NaN\n",
       "4             5     NaN   NaN                 NaN                     NaN\n",
       "..          ...     ...   ...                 ...                     ...\n",
       "195         196     NaN   NaN                 NaN                     NaN\n",
       "196         197     NaN   NaN                 NaN                     NaN\n",
       "197         198     NaN   NaN                 NaN                     NaN\n",
       "198         199     NaN   NaN                 NaN                     NaN\n",
       "199         200     NaN   NaN                 NaN                     NaN\n",
       "\n",
       "[200 rows x 5 columns]"
      ]
     },
     "execution_count": 176,
     "metadata": {},
     "output_type": "execute_result"
    }
   ],
   "source": [
    "data.mode()"
   ]
  },
  {
   "cell_type": "code",
   "execution_count": 177,
   "id": "ddd7fb97",
   "metadata": {},
   "outputs": [
    {
     "data": {
      "text/plain": [
       "array([19, 21, 20, 23, 31, 22, 35, 64, 30, 67, 58, 24, 37, 52, 25, 46, 54,\n",
       "       29, 45, 40, 60, 53, 18, 49, 42, 36, 65, 48, 50, 27, 33, 59, 47, 51,\n",
       "       69, 70, 63, 43, 68, 32, 26, 57, 38, 55, 34, 66, 39, 44, 28, 56, 41],\n",
       "      dtype=int64)"
      ]
     },
     "execution_count": 177,
     "metadata": {},
     "output_type": "execute_result"
    }
   ],
   "source": [
    "data['Age'].unique()"
   ]
  },
  {
   "cell_type": "code",
   "execution_count": 178,
   "id": "3f025222",
   "metadata": {},
   "outputs": [
    {
     "data": {
      "text/plain": [
       "<bound method IndexOpsMixin.value_counts of 0      19\n",
       "1      21\n",
       "2      20\n",
       "3      23\n",
       "4      31\n",
       "       ..\n",
       "195    35\n",
       "196    45\n",
       "197    32\n",
       "198    32\n",
       "199    30\n",
       "Name: Age, Length: 200, dtype: int64>"
      ]
     },
     "execution_count": 178,
     "metadata": {},
     "output_type": "execute_result"
    }
   ],
   "source": [
    "data['Age'].value_counts"
   ]
  },
  {
   "cell_type": "code",
   "execution_count": 179,
   "id": "00911d18",
   "metadata": {},
   "outputs": [],
   "source": [
    "# replacing the null values \n",
    "data['Age'] = data['Age'].fillna(data['Age'].median())"
   ]
  },
  {
   "cell_type": "code",
   "execution_count": 180,
   "id": "888b5776",
   "metadata": {},
   "outputs": [
    {
     "data": {
      "text/plain": [
       "0      19\n",
       "1      21\n",
       "2      20\n",
       "3      23\n",
       "4      31\n",
       "       ..\n",
       "195    35\n",
       "196    45\n",
       "197    32\n",
       "198    32\n",
       "199    30\n",
       "Name: Age, Length: 200, dtype: int64"
      ]
     },
     "execution_count": 180,
     "metadata": {},
     "output_type": "execute_result"
    }
   ],
   "source": [
    "data['Age']"
   ]
  },
  {
   "cell_type": "markdown",
   "id": "127a3c4c",
   "metadata": {},
   "source": [
    "### Find and Replace Outliers"
   ]
  },
  {
   "cell_type": "code",
   "execution_count": 181,
   "id": "457fb044",
   "metadata": {},
   "outputs": [
    {
     "data": {
      "text/html": [
       "<div>\n",
       "<style scoped>\n",
       "    .dataframe tbody tr th:only-of-type {\n",
       "        vertical-align: middle;\n",
       "    }\n",
       "\n",
       "    .dataframe tbody tr th {\n",
       "        vertical-align: top;\n",
       "    }\n",
       "\n",
       "    .dataframe thead th {\n",
       "        text-align: right;\n",
       "    }\n",
       "</style>\n",
       "<table border=\"1\" class=\"dataframe\">\n",
       "  <thead>\n",
       "    <tr style=\"text-align: right;\">\n",
       "      <th></th>\n",
       "      <th>CustomerID</th>\n",
       "      <th>Age</th>\n",
       "      <th>Annual Income (k$)</th>\n",
       "      <th>Spending Score (1-100)</th>\n",
       "    </tr>\n",
       "  </thead>\n",
       "  <tbody>\n",
       "    <tr>\n",
       "      <th>count</th>\n",
       "      <td>200.000000</td>\n",
       "      <td>200.000000</td>\n",
       "      <td>200.000000</td>\n",
       "      <td>200.000000</td>\n",
       "    </tr>\n",
       "    <tr>\n",
       "      <th>mean</th>\n",
       "      <td>100.500000</td>\n",
       "      <td>38.850000</td>\n",
       "      <td>60.560000</td>\n",
       "      <td>50.200000</td>\n",
       "    </tr>\n",
       "    <tr>\n",
       "      <th>std</th>\n",
       "      <td>57.879185</td>\n",
       "      <td>13.969007</td>\n",
       "      <td>26.264721</td>\n",
       "      <td>25.823522</td>\n",
       "    </tr>\n",
       "    <tr>\n",
       "      <th>min</th>\n",
       "      <td>1.000000</td>\n",
       "      <td>18.000000</td>\n",
       "      <td>15.000000</td>\n",
       "      <td>1.000000</td>\n",
       "    </tr>\n",
       "    <tr>\n",
       "      <th>25%</th>\n",
       "      <td>50.750000</td>\n",
       "      <td>28.750000</td>\n",
       "      <td>41.500000</td>\n",
       "      <td>34.750000</td>\n",
       "    </tr>\n",
       "    <tr>\n",
       "      <th>50%</th>\n",
       "      <td>100.500000</td>\n",
       "      <td>36.000000</td>\n",
       "      <td>61.500000</td>\n",
       "      <td>50.000000</td>\n",
       "    </tr>\n",
       "    <tr>\n",
       "      <th>75%</th>\n",
       "      <td>150.250000</td>\n",
       "      <td>49.000000</td>\n",
       "      <td>78.000000</td>\n",
       "      <td>73.000000</td>\n",
       "    </tr>\n",
       "    <tr>\n",
       "      <th>max</th>\n",
       "      <td>200.000000</td>\n",
       "      <td>70.000000</td>\n",
       "      <td>137.000000</td>\n",
       "      <td>99.000000</td>\n",
       "    </tr>\n",
       "  </tbody>\n",
       "</table>\n",
       "</div>"
      ],
      "text/plain": [
       "       CustomerID         Age  Annual Income (k$)  Spending Score (1-100)\n",
       "count  200.000000  200.000000          200.000000              200.000000\n",
       "mean   100.500000   38.850000           60.560000               50.200000\n",
       "std     57.879185   13.969007           26.264721               25.823522\n",
       "min      1.000000   18.000000           15.000000                1.000000\n",
       "25%     50.750000   28.750000           41.500000               34.750000\n",
       "50%    100.500000   36.000000           61.500000               50.000000\n",
       "75%    150.250000   49.000000           78.000000               73.000000\n",
       "max    200.000000   70.000000          137.000000               99.000000"
      ]
     },
     "execution_count": 181,
     "metadata": {},
     "output_type": "execute_result"
    }
   ],
   "source": [
    "data.describe()"
   ]
  },
  {
   "cell_type": "code",
   "execution_count": 182,
   "id": "b6b625a8",
   "metadata": {},
   "outputs": [
    {
     "data": {
      "text/plain": [
       "(0      19\n",
       " 1      21\n",
       " 2      20\n",
       " 3      23\n",
       " 4      31\n",
       "        ..\n",
       " 195    35\n",
       " 196    45\n",
       " 197    32\n",
       " 198    32\n",
       " 199    30\n",
       " Name: Age, Length: 200, dtype: int64,\n",
       " array([ 15,  16,  17,  18,  19,  20,  21,  23,  24,  25,  28,  29,  30,\n",
       "         33,  34,  37,  38,  39,  40,  42,  43,  44,  46,  47,  48,  49,\n",
       "         50,  54,  57,  58,  59,  60,  61,  62,  63,  64,  65,  67,  69,\n",
       "         70,  71,  72,  73,  74,  75,  76,  77,  78,  79,  81,  85,  86,\n",
       "         87,  88,  93,  97,  98,  99, 101, 103, 113, 120, 126, 137],\n",
       "       dtype=int64))"
      ]
     },
     "execution_count": 182,
     "metadata": {},
     "output_type": "execute_result"
    }
   ],
   "source": [
    "data['Age'],data['Annual Income (k$)'].unique()"
   ]
  },
  {
   "cell_type": "code",
   "execution_count": 183,
   "id": "bd516f4d",
   "metadata": {},
   "outputs": [],
   "source": [
    "q = data.quantile([0.75,0.50])"
   ]
  },
  {
   "cell_type": "code",
   "execution_count": 184,
   "id": "203f7136",
   "metadata": {},
   "outputs": [
    {
     "data": {
      "text/html": [
       "<div>\n",
       "<style scoped>\n",
       "    .dataframe tbody tr th:only-of-type {\n",
       "        vertical-align: middle;\n",
       "    }\n",
       "\n",
       "    .dataframe tbody tr th {\n",
       "        vertical-align: top;\n",
       "    }\n",
       "\n",
       "    .dataframe thead th {\n",
       "        text-align: right;\n",
       "    }\n",
       "</style>\n",
       "<table border=\"1\" class=\"dataframe\">\n",
       "  <thead>\n",
       "    <tr style=\"text-align: right;\">\n",
       "      <th></th>\n",
       "      <th>CustomerID</th>\n",
       "      <th>Age</th>\n",
       "      <th>Annual Income (k$)</th>\n",
       "      <th>Spending Score (1-100)</th>\n",
       "    </tr>\n",
       "  </thead>\n",
       "  <tbody>\n",
       "    <tr>\n",
       "      <th>0.75</th>\n",
       "      <td>150.25</td>\n",
       "      <td>49.0</td>\n",
       "      <td>78.0</td>\n",
       "      <td>73.0</td>\n",
       "    </tr>\n",
       "    <tr>\n",
       "      <th>0.50</th>\n",
       "      <td>100.50</td>\n",
       "      <td>36.0</td>\n",
       "      <td>61.5</td>\n",
       "      <td>50.0</td>\n",
       "    </tr>\n",
       "  </tbody>\n",
       "</table>\n",
       "</div>"
      ],
      "text/plain": [
       "      CustomerID   Age  Annual Income (k$)  Spending Score (1-100)\n",
       "0.75      150.25  49.0                78.0                    73.0\n",
       "0.50      100.50  36.0                61.5                    50.0"
      ]
     },
     "execution_count": 184,
     "metadata": {},
     "output_type": "execute_result"
    }
   ],
   "source": [
    "q"
   ]
  },
  {
   "cell_type": "code",
   "execution_count": 185,
   "id": "baf433bb",
   "metadata": {},
   "outputs": [],
   "source": [
    "iqr = q.iloc[0] - q.iloc[1]"
   ]
  },
  {
   "cell_type": "code",
   "execution_count": 186,
   "id": "65e1234e",
   "metadata": {},
   "outputs": [
    {
     "data": {
      "text/plain": [
       "CustomerID                49.75\n",
       "Age                       13.00\n",
       "Annual Income (k$)        16.50\n",
       "Spending Score (1-100)    23.00\n",
       "dtype: float64"
      ]
     },
     "execution_count": 186,
     "metadata": {},
     "output_type": "execute_result"
    }
   ],
   "source": [
    "iqr"
   ]
  },
  {
   "cell_type": "code",
   "execution_count": 187,
   "id": "c3da02e7",
   "metadata": {},
   "outputs": [],
   "source": [
    "u = q.iloc[0] + (1.5*iqr) # q3 + 1.5*iqr"
   ]
  },
  {
   "cell_type": "code",
   "execution_count": 188,
   "id": "75b4c8dd",
   "metadata": {},
   "outputs": [
    {
     "data": {
      "text/plain": [
       "CustomerID                224.875\n",
       "Age                        68.500\n",
       "Annual Income (k$)        102.750\n",
       "Spending Score (1-100)    107.500\n",
       "dtype: float64"
      ]
     },
     "execution_count": 188,
     "metadata": {},
     "output_type": "execute_result"
    }
   ],
   "source": [
    "u"
   ]
  },
  {
   "cell_type": "code",
   "execution_count": 189,
   "id": "b35bea66",
   "metadata": {},
   "outputs": [],
   "source": [
    "l = q.iloc[1] - (1.5*iqr)"
   ]
  },
  {
   "cell_type": "code",
   "execution_count": 190,
   "id": "c52c24f3",
   "metadata": {},
   "outputs": [
    {
     "data": {
      "text/plain": [
       "CustomerID                25.875\n",
       "Age                       16.500\n",
       "Annual Income (k$)        36.750\n",
       "Spending Score (1-100)    15.500\n",
       "dtype: float64"
      ]
     },
     "execution_count": 190,
     "metadata": {},
     "output_type": "execute_result"
    }
   ],
   "source": [
    "l"
   ]
  },
  {
   "cell_type": "code",
   "execution_count": 191,
   "id": "4d3e3c1a",
   "metadata": {},
   "outputs": [],
   "source": [
    "## handling outliers\n",
    "\n",
    "data['Age'] = np.where(data['Age']>5,4,data['Age'])"
   ]
  },
  {
   "cell_type": "code",
   "execution_count": 192,
   "id": "cc463d90",
   "metadata": {},
   "outputs": [
    {
     "name": "stderr",
     "output_type": "stream",
     "text": [
      "C:\\Users\\balas\\anaconda3\\lib\\site-packages\\seaborn\\_decorators.py:36: FutureWarning: Pass the following variable as a keyword arg: x. From version 0.12, the only valid positional argument will be `data`, and passing other arguments without an explicit keyword will result in an error or misinterpretation.\n",
      "  warnings.warn(\n"
     ]
    },
    {
     "data": {
      "text/plain": [
       "<AxesSubplot:xlabel='Age'>"
      ]
     },
     "execution_count": 192,
     "metadata": {},
     "output_type": "execute_result"
    },
    {
     "data": {
      "image/png": "[encoded data removed]",
      "text/plain": [
       "<Figure size 432x288 with 1 Axes>"
      ]
     },
     "metadata": {
      "needs_background": "light"
     },
     "output_type": "display_data"
    }
   ],
   "source": [
    "sns.boxplot(data['Age'])"
   ]
  },
  {
   "cell_type": "markdown",
   "id": "727aecf0",
   "metadata": {},
   "source": [
    "### Check for Categorical columns and perform encoding."
   ]
  },
  {
   "cell_type": "code",
   "execution_count": 193,
   "id": "7bfefcd6",
   "metadata": {},
   "outputs": [],
   "source": [
    "# converting categorical values into numericalvalues - Encoding\n",
    "from sklearn.preprocessing import LabelEncoder,OneHotEncoder\n",
    "le = LabelEncoder()\n",
    "oneh = OneHotEncoder()\n",
    "data['Gender'] = le.fit_transform(data['Gender'])"
   ]
  },
  {
   "cell_type": "code",
   "execution_count": 194,
   "id": "f39b0ec3",
   "metadata": {},
   "outputs": [
    {
     "data": {
      "text/html": [
       "<div>\n",
       "<style scoped>\n",
       "    .dataframe tbody tr th:only-of-type {\n",
       "        vertical-align: middle;\n",
       "    }\n",
       "\n",
       "    .dataframe tbody tr th {\n",
       "        vertical-align: top;\n",
       "    }\n",
       "\n",
       "    .dataframe thead th {\n",
       "        text-align: right;\n",
       "    }\n",
       "</style>\n",
       "<table border=\"1\" class=\"dataframe\">\n",
       "  <thead>\n",
       "    <tr style=\"text-align: right;\">\n",
       "      <th></th>\n",
       "      <th>CustomerID</th>\n",
       "      <th>Gender</th>\n",
       "      <th>Age</th>\n",
       "      <th>Annual Income (k$)</th>\n",
       "      <th>Spending Score (1-100)</th>\n",
       "    </tr>\n",
       "  </thead>\n",
       "  <tbody>\n",
       "    <tr>\n",
       "      <th>0</th>\n",
       "      <td>1</td>\n",
       "      <td>1</td>\n",
       "      <td>4</td>\n",
       "      <td>15</td>\n",
       "      <td>39</td>\n",
       "    </tr>\n",
       "    <tr>\n",
       "      <th>1</th>\n",
       "      <td>2</td>\n",
       "      <td>1</td>\n",
       "      <td>4</td>\n",
       "      <td>15</td>\n",
       "      <td>81</td>\n",
       "    </tr>\n",
       "    <tr>\n",
       "      <th>2</th>\n",
       "      <td>3</td>\n",
       "      <td>0</td>\n",
       "      <td>4</td>\n",
       "      <td>16</td>\n",
       "      <td>6</td>\n",
       "    </tr>\n",
       "    <tr>\n",
       "      <th>3</th>\n",
       "      <td>4</td>\n",
       "      <td>0</td>\n",
       "      <td>4</td>\n",
       "      <td>16</td>\n",
       "      <td>77</td>\n",
       "    </tr>\n",
       "    <tr>\n",
       "      <th>4</th>\n",
       "      <td>5</td>\n",
       "      <td>0</td>\n",
       "      <td>4</td>\n",
       "      <td>17</td>\n",
       "      <td>40</td>\n",
       "    </tr>\n",
       "  </tbody>\n",
       "</table>\n",
       "</div>"
      ],
      "text/plain": [
       "   CustomerID  Gender  Age  Annual Income (k$)  Spending Score (1-100)\n",
       "0           1       1    4                  15                      39\n",
       "1           2       1    4                  15                      81\n",
       "2           3       0    4                  16                       6\n",
       "3           4       0    4                  16                      77\n",
       "4           5       0    4                  17                      40"
      ]
     },
     "execution_count": 194,
     "metadata": {},
     "output_type": "execute_result"
    }
   ],
   "source": [
    "data.head()"
   ]
  },
  {
   "cell_type": "markdown",
   "id": "cd08b5a5",
   "metadata": {},
   "source": [
    "### Scaling the data"
   ]
  },
  {
   "cell_type": "code",
   "execution_count": 195,
   "id": "8aaeae80",
   "metadata": {},
   "outputs": [],
   "source": [
    "from sklearn.preprocessing import MinMaxScaler\n",
    "mm = MinMaxScaler()\n",
    "x_scaled = mm.fit_transform(data)"
   ]
  },
  {
   "cell_type": "code",
   "execution_count": 196,
   "id": "c861de25",
   "metadata": {},
   "outputs": [
    {
     "data": {
      "text/plain": [
       "array([[0.        , 1.        , 0.        , 0.        , 0.3877551 ],\n",
       "       [0.00502513, 1.        , 0.        , 0.        , 0.81632653],\n",
       "       [0.01005025, 0.        , 0.        , 0.00819672, 0.05102041],\n",
       "       [0.01507538, 0.        , 0.        , 0.00819672, 0.7755102 ],\n",
       "       [0.0201005 , 0.        , 0.        , 0.01639344, 0.39795918],\n",
       "       [0.02512563, 0.        , 0.        , 0.01639344, 0.76530612],\n",
       "       [0.03015075, 0.        , 0.        , 0.02459016, 0.05102041],\n",
       "       [0.03517588, 0.        , 0.        , 0.02459016, 0.94897959],\n",
       "       [0.04020101, 1.        , 0.        , 0.03278689, 0.02040816],\n",
       "       [0.04522613, 0.        , 0.        , 0.03278689, 0.7244898 ],\n",
       "       [0.05025126, 1.        , 0.        , 0.03278689, 0.13265306],\n",
       "       [0.05527638, 0.        , 0.        , 0.03278689, 1.        ],\n",
       "       [0.06030151, 0.        , 0.        , 0.04098361, 0.14285714],\n",
       "       [0.06532663, 0.        , 0.        , 0.04098361, 0.7755102 ],\n",
       "       [0.07035176, 1.        , 0.        , 0.04098361, 0.12244898],\n",
       "       [0.07537688, 1.        , 0.        , 0.04098361, 0.79591837],\n",
       "       [0.08040201, 0.        , 0.        , 0.04918033, 0.34693878],\n",
       "       [0.08542714, 1.        , 0.        , 0.04918033, 0.66326531],\n",
       "       [0.09045226, 1.        , 0.        , 0.06557377, 0.28571429],\n",
       "       [0.09547739, 0.        , 0.        , 0.06557377, 0.98979592],\n",
       "       [0.10050251, 1.        , 0.        , 0.07377049, 0.34693878],\n",
       "       [0.10552764, 1.        , 0.        , 0.07377049, 0.73469388],\n",
       "       [0.11055276, 0.        , 0.        , 0.08196721, 0.04081633],\n",
       "       [0.11557789, 1.        , 0.        , 0.08196721, 0.73469388],\n",
       "       [0.12060302, 0.        , 0.        , 0.10655738, 0.13265306],\n",
       "       [0.12562814, 1.        , 0.        , 0.10655738, 0.82653061],\n",
       "       [0.13065327, 0.        , 0.        , 0.10655738, 0.31632653],\n",
       "       [0.13567839, 1.        , 0.        , 0.10655738, 0.6122449 ],\n",
       "       [0.14070352, 0.        , 0.        , 0.1147541 , 0.30612245],\n",
       "       [0.14572864, 0.        , 0.        , 0.1147541 , 0.87755102],\n",
       "       [0.15075377, 1.        , 0.        , 0.12295082, 0.03061224],\n",
       "       [0.15577889, 0.        , 0.        , 0.12295082, 0.73469388],\n",
       "       [0.16080402, 1.        , 0.        , 0.14754098, 0.03061224],\n",
       "       [0.16582915, 1.        , 0.        , 0.14754098, 0.92857143],\n",
       "       [0.17085427, 0.        , 0.        , 0.14754098, 0.13265306],\n",
       "       [0.1758794 , 0.        , 0.        , 0.14754098, 0.81632653],\n",
       "       [0.18090452, 0.        , 0.        , 0.1557377 , 0.16326531],\n",
       "       [0.18592965, 0.        , 0.        , 0.1557377 , 0.73469388],\n",
       "       [0.19095477, 0.        , 0.        , 0.18032787, 0.25510204],\n",
       "       [0.1959799 , 0.        , 0.        , 0.18032787, 0.75510204],\n",
       "       [0.20100503, 0.        , 0.        , 0.18852459, 0.34693878],\n",
       "       [0.20603015, 1.        , 0.        , 0.18852459, 0.92857143],\n",
       "       [0.21105528, 1.        , 0.        , 0.19672131, 0.35714286],\n",
       "       [0.2160804 , 0.        , 0.        , 0.19672131, 0.6122449 ],\n",
       "       [0.22110553, 0.        , 0.        , 0.19672131, 0.2755102 ],\n",
       "       [0.22613065, 0.        , 0.        , 0.19672131, 0.65306122],\n",
       "       [0.23115578, 0.        , 0.        , 0.20491803, 0.55102041],\n",
       "       [0.2361809 , 0.        , 0.        , 0.20491803, 0.46938776],\n",
       "       [0.24120603, 0.        , 0.        , 0.20491803, 0.41836735],\n",
       "       [0.24623116, 0.        , 0.        , 0.20491803, 0.41836735],\n",
       "       [0.25125628, 0.        , 0.        , 0.22131148, 0.52040816],\n",
       "       [0.25628141, 1.        , 0.        , 0.22131148, 0.60204082],\n",
       "       [0.26130653, 0.        , 0.        , 0.2295082 , 0.54081633],\n",
       "       [0.26633166, 1.        , 0.        , 0.2295082 , 0.60204082],\n",
       "       [0.27135678, 0.        , 0.        , 0.2295082 , 0.44897959],\n",
       "       [0.27638191, 1.        , 0.        , 0.2295082 , 0.40816327],\n",
       "       [0.28140704, 0.        , 0.        , 0.23770492, 0.5       ],\n",
       "       [0.28643216, 1.        , 0.        , 0.23770492, 0.45918367],\n",
       "       [0.29145729, 0.        , 0.        , 0.25409836, 0.51020408],\n",
       "       [0.29648241, 1.        , 0.        , 0.25409836, 0.45918367],\n",
       "       [0.30150754, 1.        , 0.        , 0.25409836, 0.56122449],\n",
       "       [0.30653266, 1.        , 0.        , 0.25409836, 0.55102041],\n",
       "       [0.31155779, 0.        , 0.        , 0.26229508, 0.52040816],\n",
       "       [0.31658291, 0.        , 0.        , 0.26229508, 0.59183673],\n",
       "       [0.32160804, 1.        , 0.        , 0.2704918 , 0.51020408],\n",
       "       [0.32663317, 1.        , 0.        , 0.2704918 , 0.59183673],\n",
       "       [0.33165829, 0.        , 0.        , 0.2704918 , 0.5       ],\n",
       "       [0.33668342, 0.        , 0.        , 0.2704918 , 0.47959184],\n",
       "       [0.34170854, 1.        , 0.        , 0.2704918 , 0.59183673],\n",
       "       [0.34673367, 0.        , 0.        , 0.2704918 , 0.46938776],\n",
       "       [0.35175879, 1.        , 0.        , 0.27868852, 0.55102041],\n",
       "       [0.35678392, 0.        , 0.        , 0.27868852, 0.41836735],\n",
       "       [0.36180905, 0.        , 0.        , 0.28688525, 0.48979592],\n",
       "       [0.36683417, 0.        , 0.        , 0.28688525, 0.56122449],\n",
       "       [0.3718593 , 1.        , 0.        , 0.31967213, 0.46938776],\n",
       "       [0.37688442, 1.        , 0.        , 0.31967213, 0.54081633],\n",
       "       [0.38190955, 0.        , 0.        , 0.31967213, 0.53061224],\n",
       "       [0.38693467, 1.        , 0.        , 0.31967213, 0.47959184],\n",
       "       [0.3919598 , 0.        , 0.        , 0.31967213, 0.52040816],\n",
       "       [0.39698492, 0.        , 0.        , 0.31967213, 0.41836735],\n",
       "       [0.40201005, 1.        , 0.        , 0.31967213, 0.51020408],\n",
       "       [0.40703518, 1.        , 0.        , 0.31967213, 0.55102041],\n",
       "       [0.4120603 , 1.        , 0.        , 0.31967213, 0.40816327],\n",
       "       [0.41708543, 0.        , 0.        , 0.31967213, 0.43877551],\n",
       "       [0.42211055, 0.        , 0.        , 0.31967213, 0.57142857],\n",
       "       [0.42713568, 1.        , 0.        , 0.31967213, 0.45918367],\n",
       "       [0.4321608 , 0.        , 0.        , 0.3442623 , 0.58163265],\n",
       "       [0.43718593, 0.        , 0.        , 0.3442623 , 0.55102041],\n",
       "       [0.44221106, 0.        , 0.        , 0.35245902, 0.60204082],\n",
       "       [0.44723618, 0.        , 0.        , 0.35245902, 0.45918367],\n",
       "       [0.45226131, 0.        , 0.        , 0.36065574, 0.55102041],\n",
       "       [0.45728643, 1.        , 0.        , 0.36065574, 0.40816327],\n",
       "       [0.46231156, 1.        , 0.        , 0.36885246, 0.48979592],\n",
       "       [0.46733668, 0.        , 0.        , 0.36885246, 0.39795918],\n",
       "       [0.47236181, 0.        , 0.        , 0.36885246, 0.41836735],\n",
       "       [0.47738693, 1.        , 0.        , 0.36885246, 0.52040816],\n",
       "       [0.48241206, 0.        , 0.        , 0.36885246, 0.46938776],\n",
       "       [0.48743719, 0.        , 0.        , 0.36885246, 0.5       ],\n",
       "       [0.49246231, 1.        , 0.        , 0.37704918, 0.41836735],\n",
       "       [0.49748744, 1.        , 0.        , 0.37704918, 0.48979592],\n",
       "       [0.50251256, 0.        , 0.        , 0.3852459 , 0.40816327],\n",
       "       [0.50753769, 0.        , 0.        , 0.3852459 , 0.47959184],\n",
       "       [0.51256281, 1.        , 0.        , 0.3852459 , 0.59183673],\n",
       "       [0.51758794, 1.        , 0.        , 0.3852459 , 0.55102041],\n",
       "       [0.52261307, 1.        , 0.        , 0.3852459 , 0.56122449],\n",
       "       [0.52763819, 0.        , 0.        , 0.3852459 , 0.41836735],\n",
       "       [0.53266332, 0.        , 0.        , 0.39344262, 0.5       ],\n",
       "       [0.53768844, 1.        , 0.        , 0.39344262, 0.45918367],\n",
       "       [0.54271357, 1.        , 0.        , 0.39344262, 0.42857143],\n",
       "       [0.54773869, 1.        , 0.        , 0.39344262, 0.47959184],\n",
       "       [0.55276382, 1.        , 0.        , 0.39344262, 0.52040816],\n",
       "       [0.55778894, 0.        , 0.        , 0.39344262, 0.54081633],\n",
       "       [0.56281407, 0.        , 0.        , 0.40163934, 0.41836735],\n",
       "       [0.5678392 , 1.        , 0.        , 0.40163934, 0.45918367],\n",
       "       [0.57286432, 0.        , 0.        , 0.40983607, 0.47959184],\n",
       "       [0.57788945, 0.        , 0.        , 0.40983607, 0.5       ],\n",
       "       [0.58291457, 0.        , 0.        , 0.40983607, 0.42857143],\n",
       "       [0.5879397 , 0.        , 0.        , 0.40983607, 0.59183673],\n",
       "       [0.59296482, 0.        , 0.        , 0.42622951, 0.42857143],\n",
       "       [0.59798995, 0.        , 0.        , 0.42622951, 0.57142857],\n",
       "       [0.60301508, 1.        , 0.        , 0.42622951, 0.56122449],\n",
       "       [0.6080402 , 0.        , 0.        , 0.42622951, 0.39795918],\n",
       "       [0.61306533, 0.        , 0.        , 0.44262295, 0.58163265],\n",
       "       [0.61809045, 1.        , 0.        , 0.44262295, 0.91836735],\n",
       "       [0.62311558, 0.        , 0.        , 0.45081967, 0.28571429],\n",
       "       [0.6281407 , 0.        , 0.        , 0.45081967, 0.7755102 ],\n",
       "       [0.63316583, 1.        , 0.        , 0.45901639, 0.34693878],\n",
       "       [0.63819095, 1.        , 0.        , 0.45901639, 0.95918367],\n",
       "       [0.64321608, 1.        , 0.        , 0.45901639, 0.10204082],\n",
       "       [0.64824121, 1.        , 0.        , 0.45901639, 0.75510204],\n",
       "       [0.65326633, 1.        , 0.        , 0.45901639, 0.08163265],\n",
       "       [0.65829146, 1.        , 0.        , 0.45901639, 0.75510204],\n",
       "       [0.66331658, 0.        , 0.        , 0.46721311, 0.33673469],\n",
       "       [0.66834171, 0.        , 0.        , 0.46721311, 0.71428571],\n",
       "       [0.67336683, 1.        , 0.        , 0.47540984, 0.04081633],\n",
       "       [0.67839196, 0.        , 0.        , 0.47540984, 0.8877551 ],\n",
       "       [0.68341709, 0.        , 0.        , 0.47540984, 0.06122449],\n",
       "       [0.68844221, 1.        , 0.        , 0.47540984, 0.73469388],\n",
       "       [0.69346734, 1.        , 0.        , 0.48360656, 0.09183673],\n",
       "       [0.69849246, 0.        , 0.        , 0.48360656, 0.7244898 ],\n",
       "       [0.70351759, 0.        , 0.        , 0.49180328, 0.04081633],\n",
       "       [0.70854271, 1.        , 0.        , 0.49180328, 0.93877551],\n",
       "       [0.71356784, 0.        , 0.        , 0.5       , 0.39795918],\n",
       "       [0.71859296, 0.        , 0.        , 0.5       , 0.87755102],\n",
       "       [0.72361809, 1.        , 0.        , 0.50819672, 0.1122449 ],\n",
       "       [0.72864322, 1.        , 0.        , 0.50819672, 0.97959184],\n",
       "       [0.73366834, 1.        , 0.        , 0.50819672, 0.35714286],\n",
       "       [0.73869347, 0.        , 0.        , 0.50819672, 0.74489796],\n",
       "       [0.74371859, 0.        , 0.        , 0.51639344, 0.21428571],\n",
       "       [0.74874372, 1.        , 0.        , 0.51639344, 0.90816327],\n",
       "       [0.75376884, 1.        , 0.        , 0.51639344, 0.16326531],\n",
       "       [0.75879397, 1.        , 0.        , 0.51639344, 0.8877551 ],\n",
       "       [0.7638191 , 0.        , 0.        , 0.51639344, 0.19387755],\n",
       "       [0.76884422, 0.        , 0.        , 0.51639344, 0.76530612],\n",
       "       [0.77386935, 0.        , 0.        , 0.51639344, 0.15306122],\n",
       "       [0.77889447, 0.        , 0.        , 0.51639344, 0.89795918],\n",
       "       [0.7839196 , 1.        , 0.        , 0.51639344, 0.        ],\n",
       "       [0.78894472, 0.        , 0.        , 0.51639344, 0.78571429],\n",
       "       [0.79396985, 1.        , 0.        , 0.51639344, 0.        ],\n",
       "       [0.79899497, 0.        , 0.        , 0.51639344, 0.73469388],\n",
       "       [0.8040201 , 0.        , 0.        , 0.52459016, 0.34693878],\n",
       "       [0.80904523, 0.        , 0.        , 0.52459016, 0.83673469],\n",
       "       [0.81407035, 1.        , 0.        , 0.54098361, 0.04081633],\n",
       "       [0.81909548, 0.        , 0.        , 0.54098361, 0.93877551],\n",
       "       [0.8241206 , 1.        , 0.        , 0.57377049, 0.25510204],\n",
       "       [0.82914573, 0.        , 0.        , 0.57377049, 0.75510204],\n",
       "       [0.83417085, 1.        , 0.        , 0.58196721, 0.19387755],\n",
       "       [0.83919598, 0.        , 0.        , 0.58196721, 0.95918367],\n",
       "       [0.84422111, 0.        , 0.        , 0.59016393, 0.26530612],\n",
       "       [0.84924623, 1.        , 0.        , 0.59016393, 0.63265306],\n",
       "       [0.85427136, 1.        , 0.        , 0.59016393, 0.12244898],\n",
       "       [0.85929648, 1.        , 0.        , 0.59016393, 0.75510204],\n",
       "       [0.86432161, 1.        , 0.        , 0.59016393, 0.09183673],\n",
       "       [0.86934673, 1.        , 0.        , 0.59016393, 0.92857143],\n",
       "       [0.87437186, 0.        , 0.        , 0.59836066, 0.12244898],\n",
       "       [0.87939698, 0.        , 0.        , 0.59836066, 0.86734694],\n",
       "       [0.88442211, 1.        , 0.        , 0.59836066, 0.14285714],\n",
       "       [0.88944724, 1.        , 0.        , 0.59836066, 0.69387755],\n",
       "       [0.89447236, 1.        , 0.        , 0.63934426, 0.13265306],\n",
       "       [0.89949749, 1.        , 0.        , 0.63934426, 0.90816327],\n",
       "       [0.90452261, 0.        , 0.        , 0.67213115, 0.31632653],\n",
       "       [0.90954774, 0.        , 0.        , 0.67213115, 0.86734694],\n",
       "       [0.91457286, 1.        , 0.        , 0.68032787, 0.14285714],\n",
       "       [0.91959799, 0.        , 0.        , 0.68032787, 0.8877551 ],\n",
       "       [0.92462312, 0.        , 0.        , 0.68852459, 0.3877551 ],\n",
       "       [0.92964824, 1.        , 0.        , 0.68852459, 0.97959184],\n",
       "       [0.93467337, 0.        , 0.        , 0.70491803, 0.23469388],\n",
       "       [0.93969849, 1.        , 0.        , 0.70491803, 0.68367347],\n",
       "       [0.94472362, 0.        , 0.        , 0.72131148, 0.16326531],\n",
       "       [0.94974874, 0.        , 0.        , 0.72131148, 0.85714286],\n",
       "       [0.95477387, 0.        , 0.        , 0.72131148, 0.2244898 ],\n",
       "       [0.95979899, 0.        , 0.        , 0.72131148, 0.69387755],\n",
       "       [0.96482412, 1.        , 0.        , 0.80327869, 0.07142857],\n",
       "       [0.96984925, 0.        , 0.        , 0.80327869, 0.91836735],\n",
       "       [0.97487437, 0.        , 0.        , 0.86065574, 0.15306122],\n",
       "       [0.9798995 , 0.        , 0.        , 0.86065574, 0.79591837],\n",
       "       [0.98492462, 0.        , 0.        , 0.90983607, 0.2755102 ],\n",
       "       [0.98994975, 1.        , 0.        , 0.90983607, 0.74489796],\n",
       "       [0.99497487, 1.        , 0.        , 1.        , 0.17346939],\n",
       "       [1.        , 1.        , 0.        , 1.        , 0.83673469]])"
      ]
     },
     "execution_count": 196,
     "metadata": {},
     "output_type": "execute_result"
    }
   ],
   "source": [
    "x_scaled"
   ]
  },
  {
   "cell_type": "markdown",
   "id": "0c50c11b",
   "metadata": {},
   "source": [
    "### Perform any of the clustering algorithms"
   ]
  },
  {
   "cell_type": "code",
   "execution_count": 197,
   "id": "266f7d8e",
   "metadata": {},
   "outputs": [],
   "source": [
    "from sklearn.cluster import KMeans\n",
    "km = KMeans()\n",
    "clus = km.fit_predict(x_scaled)"
   ]
  },
  {
   "cell_type": "code",
   "execution_count": 198,
   "id": "544b1ef3",
   "metadata": {},
   "outputs": [
    {
     "data": {
      "text/plain": [
       "array([4, 4, 1, 1, 1, 1, 1, 1, 4, 1, 4, 1, 1, 1, 4, 4, 1, 4, 4, 1, 4, 4,\n",
       "       1, 4, 1, 4, 1, 4, 1, 1, 4, 1, 4, 4, 1, 1, 1, 1, 1, 1, 1, 4, 4, 1,\n",
       "       1, 1, 1, 1, 1, 1, 1, 4, 1, 4, 1, 4, 1, 3, 1, 3, 3, 3, 2, 2, 3, 3,\n",
       "       2, 2, 3, 2, 3, 2, 2, 2, 3, 3, 2, 3, 2, 2, 3, 3, 3, 2, 2, 3, 2, 2,\n",
       "       2, 2, 2, 3, 3, 2, 2, 3, 2, 2, 3, 3, 2, 2, 3, 3, 3, 2, 2, 3, 3, 3,\n",
       "       3, 2, 2, 3, 2, 2, 2, 2, 2, 2, 3, 2, 2, 7, 2, 5, 3, 7, 0, 7, 0, 7,\n",
       "       2, 5, 0, 5, 6, 7, 0, 5, 6, 7, 6, 5, 0, 7, 0, 5, 6, 7, 0, 7, 6, 5,\n",
       "       6, 5, 0, 5, 0, 5, 6, 5, 0, 5, 0, 5, 0, 5, 6, 7, 0, 7, 0, 7, 6, 5,\n",
       "       0, 7, 0, 7, 6, 5, 0, 5, 6, 7, 6, 7, 6, 5, 6, 5, 0, 5, 6, 5, 6, 7,\n",
       "       0, 7])"
      ]
     },
     "execution_count": 198,
     "metadata": {},
     "output_type": "execute_result"
    }
   ],
   "source": [
    "clus"
   ]
  },
  {
   "cell_type": "code",
   "execution_count": 199,
   "id": "ce8a694a",
   "metadata": {},
   "outputs": [],
   "source": [
    "names = data.columns"
   ]
  },
  {
   "cell_type": "code",
   "execution_count": 200,
   "id": "25294192",
   "metadata": {},
   "outputs": [
    {
     "data": {
      "text/plain": [
       "Index(['CustomerID', 'Gender', 'Age', 'Annual Income (k$)',\n",
       "       'Spending Score (1-100)'],\n",
       "      dtype='object')"
      ]
     },
     "execution_count": 200,
     "metadata": {},
     "output_type": "execute_result"
    }
   ],
   "source": [
    "names"
   ]
  },
  {
   "cell_type": "code",
   "execution_count": 201,
   "id": "9a27e051",
   "metadata": {},
   "outputs": [],
   "source": [
    "data1 = pd.DataFrame(x_scaled, columns=names)"
   ]
  },
  {
   "cell_type": "code",
   "execution_count": 202,
   "id": "01862b6d",
   "metadata": {},
   "outputs": [
    {
     "data": {
      "text/html": [
       "<div>\n",
       "<style scoped>\n",
       "    .dataframe tbody tr th:only-of-type {\n",
       "        vertical-align: middle;\n",
       "    }\n",
       "\n",
       "    .dataframe tbody tr th {\n",
       "        vertical-align: top;\n",
       "    }\n",
       "\n",
       "    .dataframe thead th {\n",
       "        text-align: right;\n",
       "    }\n",
       "</style>\n",
       "<table border=\"1\" class=\"dataframe\">\n",
       "  <thead>\n",
       "    <tr style=\"text-align: right;\">\n",
       "      <th></th>\n",
       "      <th>CustomerID</th>\n",
       "      <th>Gender</th>\n",
       "      <th>Age</th>\n",
       "      <th>Annual Income (k$)</th>\n",
       "      <th>Spending Score (1-100)</th>\n",
       "    </tr>\n",
       "  </thead>\n",
       "  <tbody>\n",
       "    <tr>\n",
       "      <th>0</th>\n",
       "      <td>0.000000</td>\n",
       "      <td>1.0</td>\n",
       "      <td>0.0</td>\n",
       "      <td>0.000000</td>\n",
       "      <td>0.387755</td>\n",
       "    </tr>\n",
       "    <tr>\n",
       "      <th>1</th>\n",
       "      <td>0.005025</td>\n",
       "      <td>1.0</td>\n",
       "      <td>0.0</td>\n",
       "      <td>0.000000</td>\n",
       "      <td>0.816327</td>\n",
       "    </tr>\n",
       "    <tr>\n",
       "      <th>2</th>\n",
       "      <td>0.010050</td>\n",
       "      <td>0.0</td>\n",
       "      <td>0.0</td>\n",
       "      <td>0.008197</td>\n",
       "      <td>0.051020</td>\n",
       "    </tr>\n",
       "    <tr>\n",
       "      <th>3</th>\n",
       "      <td>0.015075</td>\n",
       "      <td>0.0</td>\n",
       "      <td>0.0</td>\n",
       "      <td>0.008197</td>\n",
       "      <td>0.775510</td>\n",
       "    </tr>\n",
       "    <tr>\n",
       "      <th>4</th>\n",
       "      <td>0.020101</td>\n",
       "      <td>0.0</td>\n",
       "      <td>0.0</td>\n",
       "      <td>0.016393</td>\n",
       "      <td>0.397959</td>\n",
       "    </tr>\n",
       "  </tbody>\n",
       "</table>\n",
       "</div>"
      ],
      "text/plain": [
       "   CustomerID  Gender  Age  Annual Income (k$)  Spending Score (1-100)\n",
       "0    0.000000     1.0  0.0            0.000000                0.387755\n",
       "1    0.005025     1.0  0.0            0.000000                0.816327\n",
       "2    0.010050     0.0  0.0            0.008197                0.051020\n",
       "3    0.015075     0.0  0.0            0.008197                0.775510\n",
       "4    0.020101     0.0  0.0            0.016393                0.397959"
      ]
     },
     "execution_count": 202,
     "metadata": {},
     "output_type": "execute_result"
    }
   ],
   "source": [
    "data1.head()"
   ]
  },
  {
   "cell_type": "markdown",
   "id": "f95b040d",
   "metadata": {},
   "source": [
    "### Add the cluster data with the primary dataset"
   ]
  },
  {
   "cell_type": "code",
   "execution_count": 203,
   "id": "c94f5bf4",
   "metadata": {},
   "outputs": [],
   "source": [
    "data1['New clus'] = pd.Series(clus)"
   ]
  },
  {
   "cell_type": "code",
   "execution_count": 204,
   "id": "85fd33c4",
   "metadata": {},
   "outputs": [
    {
     "data": {
      "text/html": [
       "<div>\n",
       "<style scoped>\n",
       "    .dataframe tbody tr th:only-of-type {\n",
       "        vertical-align: middle;\n",
       "    }\n",
       "\n",
       "    .dataframe tbody tr th {\n",
       "        vertical-align: top;\n",
       "    }\n",
       "\n",
       "    .dataframe thead th {\n",
       "        text-align: right;\n",
       "    }\n",
       "</style>\n",
       "<table border=\"1\" class=\"dataframe\">\n",
       "  <thead>\n",
       "    <tr style=\"text-align: right;\">\n",
       "      <th></th>\n",
       "      <th>CustomerID</th>\n",
       "      <th>Gender</th>\n",
       "      <th>Age</th>\n",
       "      <th>Annual Income (k$)</th>\n",
       "      <th>Spending Score (1-100)</th>\n",
       "      <th>New clus</th>\n",
       "    </tr>\n",
       "  </thead>\n",
       "  <tbody>\n",
       "    <tr>\n",
       "      <th>0</th>\n",
       "      <td>0.000000</td>\n",
       "      <td>1.0</td>\n",
       "      <td>0.0</td>\n",
       "      <td>0.000000</td>\n",
       "      <td>0.387755</td>\n",
       "      <td>4</td>\n",
       "    </tr>\n",
       "    <tr>\n",
       "      <th>1</th>\n",
       "      <td>0.005025</td>\n",
       "      <td>1.0</td>\n",
       "      <td>0.0</td>\n",
       "      <td>0.000000</td>\n",
       "      <td>0.816327</td>\n",
       "      <td>4</td>\n",
       "    </tr>\n",
       "    <tr>\n",
       "      <th>2</th>\n",
       "      <td>0.010050</td>\n",
       "      <td>0.0</td>\n",
       "      <td>0.0</td>\n",
       "      <td>0.008197</td>\n",
       "      <td>0.051020</td>\n",
       "      <td>1</td>\n",
       "    </tr>\n",
       "    <tr>\n",
       "      <th>3</th>\n",
       "      <td>0.015075</td>\n",
       "      <td>0.0</td>\n",
       "      <td>0.0</td>\n",
       "      <td>0.008197</td>\n",
       "      <td>0.775510</td>\n",
       "      <td>1</td>\n",
       "    </tr>\n",
       "    <tr>\n",
       "      <th>4</th>\n",
       "      <td>0.020101</td>\n",
       "      <td>0.0</td>\n",
       "      <td>0.0</td>\n",
       "      <td>0.016393</td>\n",
       "      <td>0.397959</td>\n",
       "      <td>1</td>\n",
       "    </tr>\n",
       "  </tbody>\n",
       "</table>\n",
       "</div>"
      ],
      "text/plain": [
       "   CustomerID  Gender  Age  Annual Income (k$)  Spending Score (1-100)  \\\n",
       "0    0.000000     1.0  0.0            0.000000                0.387755   \n",
       "1    0.005025     1.0  0.0            0.000000                0.816327   \n",
       "2    0.010050     0.0  0.0            0.008197                0.051020   \n",
       "3    0.015075     0.0  0.0            0.008197                0.775510   \n",
       "4    0.020101     0.0  0.0            0.016393                0.397959   \n",
       "\n",
       "   New clus  \n",
       "0         4  \n",
       "1         4  \n",
       "2         1  \n",
       "3         1  \n",
       "4         1  "
      ]
     },
     "execution_count": 204,
     "metadata": {},
     "output_type": "execute_result"
    }
   ],
   "source": [
    "data1.head()"
   ]
  },
  {
   "cell_type": "markdown",
   "id": "68fd1ad8",
   "metadata": {},
   "source": [
    "### Split the data into dependent and independent variables"
   ]
  },
  {
   "cell_type": "code",
   "execution_count": 205,
   "id": "5c6706b0",
   "metadata": {},
   "outputs": [
    {
     "data": {
      "text/plain": [
       "(200, 5)"
      ]
     },
     "execution_count": 205,
     "metadata": {},
     "output_type": "execute_result"
    }
   ],
   "source": [
    "data.shape"
   ]
  },
  {
   "cell_type": "code",
   "execution_count": 206,
   "id": "a1667e41",
   "metadata": {},
   "outputs": [],
   "source": [
    "x = data.iloc[:, 0:5]"
   ]
  },
  {
   "cell_type": "code",
   "execution_count": 207,
   "id": "29bc915f",
   "metadata": {},
   "outputs": [
    {
     "data": {
      "text/html": [
       "<div>\n",
       "<style scoped>\n",
       "    .dataframe tbody tr th:only-of-type {\n",
       "        vertical-align: middle;\n",
       "    }\n",
       "\n",
       "    .dataframe tbody tr th {\n",
       "        vertical-align: top;\n",
       "    }\n",
       "\n",
       "    .dataframe thead th {\n",
       "        text-align: right;\n",
       "    }\n",
       "</style>\n",
       "<table border=\"1\" class=\"dataframe\">\n",
       "  <thead>\n",
       "    <tr style=\"text-align: right;\">\n",
       "      <th></th>\n",
       "      <th>CustomerID</th>\n",
       "      <th>Gender</th>\n",
       "      <th>Age</th>\n",
       "      <th>Annual Income (k$)</th>\n",
       "      <th>Spending Score (1-100)</th>\n",
       "    </tr>\n",
       "  </thead>\n",
       "  <tbody>\n",
       "    <tr>\n",
       "      <th>0</th>\n",
       "      <td>1</td>\n",
       "      <td>1</td>\n",
       "      <td>4</td>\n",
       "      <td>15</td>\n",
       "      <td>39</td>\n",
       "    </tr>\n",
       "    <tr>\n",
       "      <th>1</th>\n",
       "      <td>2</td>\n",
       "      <td>1</td>\n",
       "      <td>4</td>\n",
       "      <td>15</td>\n",
       "      <td>81</td>\n",
       "    </tr>\n",
       "    <tr>\n",
       "      <th>2</th>\n",
       "      <td>3</td>\n",
       "      <td>0</td>\n",
       "      <td>4</td>\n",
       "      <td>16</td>\n",
       "      <td>6</td>\n",
       "    </tr>\n",
       "    <tr>\n",
       "      <th>3</th>\n",
       "      <td>4</td>\n",
       "      <td>0</td>\n",
       "      <td>4</td>\n",
       "      <td>16</td>\n",
       "      <td>77</td>\n",
       "    </tr>\n",
       "    <tr>\n",
       "      <th>4</th>\n",
       "      <td>5</td>\n",
       "      <td>0</td>\n",
       "      <td>4</td>\n",
       "      <td>17</td>\n",
       "      <td>40</td>\n",
       "    </tr>\n",
       "    <tr>\n",
       "      <th>...</th>\n",
       "      <td>...</td>\n",
       "      <td>...</td>\n",
       "      <td>...</td>\n",
       "      <td>...</td>\n",
       "      <td>...</td>\n",
       "    </tr>\n",
       "    <tr>\n",
       "      <th>195</th>\n",
       "      <td>196</td>\n",
       "      <td>0</td>\n",
       "      <td>4</td>\n",
       "      <td>120</td>\n",
       "      <td>79</td>\n",
       "    </tr>\n",
       "    <tr>\n",
       "      <th>196</th>\n",
       "      <td>197</td>\n",
       "      <td>0</td>\n",
       "      <td>4</td>\n",
       "      <td>126</td>\n",
       "      <td>28</td>\n",
       "    </tr>\n",
       "    <tr>\n",
       "      <th>197</th>\n",
       "      <td>198</td>\n",
       "      <td>1</td>\n",
       "      <td>4</td>\n",
       "      <td>126</td>\n",
       "      <td>74</td>\n",
       "    </tr>\n",
       "    <tr>\n",
       "      <th>198</th>\n",
       "      <td>199</td>\n",
       "      <td>1</td>\n",
       "      <td>4</td>\n",
       "      <td>137</td>\n",
       "      <td>18</td>\n",
       "    </tr>\n",
       "    <tr>\n",
       "      <th>199</th>\n",
       "      <td>200</td>\n",
       "      <td>1</td>\n",
       "      <td>4</td>\n",
       "      <td>137</td>\n",
       "      <td>83</td>\n",
       "    </tr>\n",
       "  </tbody>\n",
       "</table>\n",
       "<p>200 rows × 5 columns</p>\n",
       "</div>"
      ],
      "text/plain": [
       "     CustomerID  Gender  Age  Annual Income (k$)  Spending Score (1-100)\n",
       "0             1       1    4                  15                      39\n",
       "1             2       1    4                  15                      81\n",
       "2             3       0    4                  16                       6\n",
       "3             4       0    4                  16                      77\n",
       "4             5       0    4                  17                      40\n",
       "..          ...     ...  ...                 ...                     ...\n",
       "195         196       0    4                 120                      79\n",
       "196         197       0    4                 126                      28\n",
       "197         198       1    4                 126                      74\n",
       "198         199       1    4                 137                      18\n",
       "199         200       1    4                 137                      83\n",
       "\n",
       "[200 rows x 5 columns]"
      ]
     },
     "execution_count": 207,
     "metadata": {},
     "output_type": "execute_result"
    }
   ],
   "source": [
    "x"
   ]
  },
  {
   "cell_type": "code",
   "execution_count": 208,
   "id": "d64ff992",
   "metadata": {},
   "outputs": [],
   "source": [
    "y = data['Spending Score (1-100)']"
   ]
  },
  {
   "cell_type": "code",
   "execution_count": 209,
   "id": "44d91e1f",
   "metadata": {},
   "outputs": [
    {
     "data": {
      "text/plain": [
       "0      39\n",
       "1      81\n",
       "2       6\n",
       "3      77\n",
       "4      40\n",
       "       ..\n",
       "195    79\n",
       "196    28\n",
       "197    74\n",
       "198    18\n",
       "199    83\n",
       "Name: Spending Score (1-100), Length: 200, dtype: int64"
      ]
     },
     "execution_count": 209,
     "metadata": {},
     "output_type": "execute_result"
    }
   ],
   "source": [
    "y"
   ]
  },
  {
   "cell_type": "markdown",
   "id": "16efe389",
   "metadata": {},
   "source": [
    "### Split the data into training and testing"
   ]
  },
  {
   "cell_type": "code",
   "execution_count": 210,
   "id": "7df41df0",
   "metadata": {},
   "outputs": [],
   "source": [
    "from sklearn.model_selection import train_test_split\n",
    "x_train, x_test, y_train, y_test = train_test_split (x_scaled, y, test_size = 0.5, random_state = 0)"
   ]
  },
  {
   "cell_type": "code",
   "execution_count": 211,
   "id": "e00f96fc",
   "metadata": {},
   "outputs": [
    {
     "data": {
      "text/plain": [
       "array([[0.79396985, 1.        , 0.        , 0.51639344, 0.        ],\n",
       "       [0.95979899, 0.        , 0.        , 0.72131148, 0.69387755],\n",
       "       [0.25125628, 0.        , 0.        , 0.22131148, 0.52040816],\n",
       "       [0.        , 1.        , 0.        , 0.        , 0.3877551 ],\n",
       "       [0.47236181, 0.        , 0.        , 0.36885246, 0.41836735],\n",
       "       [0.55276382, 1.        , 0.        , 0.39344262, 0.52040816],\n",
       "       [0.47738693, 1.        , 0.        , 0.36885246, 0.52040816],\n",
       "       [0.32160804, 1.        , 0.        , 0.2704918 , 0.51020408],\n",
       "       [0.83919598, 0.        , 0.        , 0.58196721, 0.95918367],\n",
       "       [0.20603015, 1.        , 0.        , 0.18852459, 0.92857143],\n",
       "       [0.34673367, 0.        , 0.        , 0.2704918 , 0.46938776],\n",
       "       [0.24623116, 0.        , 0.        , 0.20491803, 0.41836735],\n",
       "       [0.24120603, 0.        , 0.        , 0.20491803, 0.41836735],\n",
       "       [0.42713568, 1.        , 0.        , 0.31967213, 0.45918367],\n",
       "       [0.06532663, 0.        , 0.        , 0.04098361, 0.7755102 ],\n",
       "       [0.80904523, 0.        , 0.        , 0.52459016, 0.83673469],\n",
       "       [0.11557789, 1.        , 0.        , 0.08196721, 0.73469388],\n",
       "       [0.93467337, 0.        , 0.        , 0.70491803, 0.23469388],\n",
       "       [0.67839196, 0.        , 0.        , 0.47540984, 0.8877551 ],\n",
       "       [0.10050251, 1.        , 0.        , 0.07377049, 0.34693878],\n",
       "       [0.07537688, 1.        , 0.        , 0.04098361, 0.79591837],\n",
       "       [0.3919598 , 0.        , 0.        , 0.31967213, 0.52040816],\n",
       "       [0.52261307, 1.        , 0.        , 0.3852459 , 0.56122449],\n",
       "       [0.26130653, 0.        , 0.        , 0.2295082 , 0.54081633],\n",
       "       [0.50251256, 0.        , 0.        , 0.3852459 , 0.40816327],\n",
       "       [0.38190955, 0.        , 0.        , 0.31967213, 0.53061224],\n",
       "       [0.01507538, 0.        , 0.        , 0.00819672, 0.7755102 ],\n",
       "       [0.58291457, 0.        , 0.        , 0.40983607, 0.42857143],\n",
       "       [0.8241206 , 1.        , 0.        , 0.57377049, 0.25510204],\n",
       "       [0.99497487, 1.        , 0.        , 1.        , 0.17346939],\n",
       "       [0.03015075, 0.        , 0.        , 0.02459016, 0.05102041],\n",
       "       [0.34170854, 1.        , 0.        , 0.2704918 , 0.59183673],\n",
       "       [0.42211055, 0.        , 0.        , 0.31967213, 0.57142857],\n",
       "       [0.6080402 , 0.        , 0.        , 0.42622951, 0.39795918],\n",
       "       [0.77889447, 0.        , 0.        , 0.51639344, 0.89795918],\n",
       "       [0.85929648, 1.        , 0.        , 0.59016393, 0.75510204],\n",
       "       [0.7839196 , 1.        , 0.        , 0.51639344, 0.        ],\n",
       "       [0.45728643, 1.        , 0.        , 0.36065574, 0.40816327],\n",
       "       [1.        , 1.        , 0.        , 1.        , 0.83673469],\n",
       "       [0.05527638, 0.        , 0.        , 0.03278689, 1.        ],\n",
       "       [0.59798995, 0.        , 0.        , 0.42622951, 0.57142857],\n",
       "       [0.51256281, 1.        , 0.        , 0.3852459 , 0.59183673],\n",
       "       [0.1758794 , 0.        , 0.        , 0.14754098, 0.81632653],\n",
       "       [0.28643216, 1.        , 0.        , 0.23770492, 0.45918367],\n",
       "       [0.32663317, 1.        , 0.        , 0.2704918 , 0.59183673],\n",
       "       [0.00502513, 1.        , 0.        , 0.        , 0.81632653],\n",
       "       [0.60301508, 1.        , 0.        , 0.42622951, 0.56122449],\n",
       "       [0.81407035, 1.        , 0.        , 0.54098361, 0.04081633],\n",
       "       [0.21105528, 1.        , 0.        , 0.19672131, 0.35714286],\n",
       "       [0.52763819, 0.        , 0.        , 0.3852459 , 0.41836735],\n",
       "       [0.66331658, 0.        , 0.        , 0.46721311, 0.33673469],\n",
       "       [0.86934673, 1.        , 0.        , 0.59016393, 0.92857143],\n",
       "       [0.08542714, 1.        , 0.        , 0.04918033, 0.66326531],\n",
       "       [0.19095477, 0.        , 0.        , 0.18032787, 0.25510204],\n",
       "       [0.66834171, 0.        , 0.        , 0.46721311, 0.71428571],\n",
       "       [0.26633166, 1.        , 0.        , 0.2295082 , 0.60204082],\n",
       "       [0.78894472, 0.        , 0.        , 0.51639344, 0.78571429],\n",
       "       [0.64321608, 1.        , 0.        , 0.45901639, 0.10204082],\n",
       "       [0.17085427, 0.        , 0.        , 0.14754098, 0.13265306],\n",
       "       [0.14070352, 0.        , 0.        , 0.1147541 , 0.30612245],\n",
       "       [0.57286432, 0.        , 0.        , 0.40983607, 0.47959184],\n",
       "       [0.75879397, 1.        , 0.        , 0.51639344, 0.8877551 ],\n",
       "       [0.15577889, 0.        , 0.        , 0.12295082, 0.73469388],\n",
       "       [0.83417085, 1.        , 0.        , 0.58196721, 0.19387755],\n",
       "       [0.63819095, 1.        , 0.        , 0.45901639, 0.95918367],\n",
       "       [0.88442211, 1.        , 0.        , 0.59836066, 0.14285714],\n",
       "       [0.16080402, 1.        , 0.        , 0.14754098, 0.03061224],\n",
       "       [0.71356784, 0.        , 0.        , 0.5       , 0.39795918],\n",
       "       [0.84924623, 1.        , 0.        , 0.59016393, 0.63265306],\n",
       "       [0.73869347, 0.        , 0.        , 0.50819672, 0.74489796],\n",
       "       [0.14572864, 0.        , 0.        , 0.1147541 , 0.87755102],\n",
       "       [0.49748744, 1.        , 0.        , 0.37704918, 0.48979592],\n",
       "       [0.4120603 , 1.        , 0.        , 0.31967213, 0.40816327],\n",
       "       [0.39698492, 0.        , 0.        , 0.31967213, 0.41836735],\n",
       "       [0.57788945, 0.        , 0.        , 0.40983607, 0.5       ],\n",
       "       [0.74371859, 0.        , 0.        , 0.51639344, 0.21428571],\n",
       "       [0.96984925, 0.        , 0.        , 0.80327869, 0.91836735],\n",
       "       [0.36180905, 0.        , 0.        , 0.28688525, 0.48979592],\n",
       "       [0.38693467, 1.        , 0.        , 0.31967213, 0.47959184],\n",
       "       [0.12562814, 1.        , 0.        , 0.10655738, 0.82653061],\n",
       "       [0.82914573, 0.        , 0.        , 0.57377049, 0.75510204],\n",
       "       [0.40703518, 1.        , 0.        , 0.31967213, 0.55102041],\n",
       "       [0.94472362, 0.        , 0.        , 0.72131148, 0.16326531],\n",
       "       [0.87437186, 0.        , 0.        , 0.59836066, 0.12244898],\n",
       "       [0.95477387, 0.        , 0.        , 0.72131148, 0.2244898 ],\n",
       "       [0.1959799 , 0.        , 0.        , 0.18032787, 0.75510204],\n",
       "       [0.29145729, 0.        , 0.        , 0.25409836, 0.51020408],\n",
       "       [0.70351759, 0.        , 0.        , 0.49180328, 0.04081633],\n",
       "       [0.44221106, 0.        , 0.        , 0.35245902, 0.60204082],\n",
       "       [0.35175879, 1.        , 0.        , 0.27868852, 0.55102041],\n",
       "       [0.43718593, 0.        , 0.        , 0.3442623 , 0.55102041],\n",
       "       [0.18090452, 0.        , 0.        , 0.1557377 , 0.16326531],\n",
       "       [0.10552764, 1.        , 0.        , 0.07377049, 0.73469388],\n",
       "       [0.04522613, 0.        , 0.        , 0.03278689, 0.7244898 ],\n",
       "       [0.51758794, 1.        , 0.        , 0.3852459 , 0.55102041],\n",
       "       [0.33668342, 0.        , 0.        , 0.2704918 , 0.47959184],\n",
       "       [0.96482412, 1.        , 0.        , 0.80327869, 0.07142857],\n",
       "       [0.5879397 , 0.        , 0.        , 0.40983607, 0.59183673],\n",
       "       [0.2361809 , 0.        , 0.        , 0.20491803, 0.46938776],\n",
       "       [0.86432161, 1.        , 0.        , 0.59016393, 0.09183673]])"
      ]
     },
     "execution_count": 211,
     "metadata": {},
     "output_type": "execute_result"
    }
   ],
   "source": [
    "x_train"
   ]
  },
  {
   "cell_type": "code",
   "execution_count": 212,
   "id": "9768a780",
   "metadata": {},
   "outputs": [
    {
     "data": {
      "text/plain": [
       "(100, 5)"
      ]
     },
     "execution_count": 212,
     "metadata": {},
     "output_type": "execute_result"
    }
   ],
   "source": [
    "x_train.shape"
   ]
  },
  {
   "cell_type": "code",
   "execution_count": 213,
   "id": "95bf456c",
   "metadata": {},
   "outputs": [
    {
     "data": {
      "text/plain": [
       "array([[0.09045226, 1.        , 0.        , 0.06557377, 0.28571429],\n",
       "       [0.85427136, 1.        , 0.        , 0.59016393, 0.12244898],\n",
       "       [0.53768844, 1.        , 0.        , 0.39344262, 0.45918367],\n",
       "       [0.49246231, 1.        , 0.        , 0.37704918, 0.41836735],\n",
       "       [0.88944724, 1.        , 0.        , 0.59836066, 0.69387755],\n",
       "       [0.91457286, 1.        , 0.        , 0.68032787, 0.14285714],\n",
       "       [0.02512563, 0.        , 0.        , 0.01639344, 0.76530612],\n",
       "       [0.73366834, 1.        , 0.        , 0.50819672, 0.35714286],\n",
       "       [0.06030151, 0.        , 0.        , 0.04098361, 0.14285714],\n",
       "       [0.7638191 , 0.        , 0.        , 0.51639344, 0.19387755],\n",
       "       [0.30653266, 1.        , 0.        , 0.25409836, 0.55102041],\n",
       "       [0.6281407 , 0.        , 0.        , 0.45081967, 0.7755102 ],\n",
       "       [0.90452261, 0.        , 0.        , 0.67213115, 0.31632653],\n",
       "       [0.77386935, 0.        , 0.        , 0.51639344, 0.15306122],\n",
       "       [0.40201005, 1.        , 0.        , 0.31967213, 0.51020408],\n",
       "       [0.03517588, 0.        , 0.        , 0.02459016, 0.94897959],\n",
       "       [0.16582915, 1.        , 0.        , 0.14754098, 0.92857143],\n",
       "       [0.65326633, 1.        , 0.        , 0.45901639, 0.08163265],\n",
       "       [0.18592965, 0.        , 0.        , 0.1557377 , 0.73469388],\n",
       "       [0.3718593 , 1.        , 0.        , 0.31967213, 0.46938776],\n",
       "       [0.91959799, 0.        , 0.        , 0.68032787, 0.8877551 ],\n",
       "       [0.72864322, 1.        , 0.        , 0.50819672, 0.97959184],\n",
       "       [0.22613065, 0.        , 0.        , 0.19672131, 0.65306122],\n",
       "       [0.79899497, 0.        , 0.        , 0.51639344, 0.73469388],\n",
       "       [0.30150754, 1.        , 0.        , 0.25409836, 0.56122449],\n",
       "       [0.61809045, 1.        , 0.        , 0.44262295, 0.91836735],\n",
       "       [0.89949749, 1.        , 0.        , 0.63934426, 0.90816327],\n",
       "       [0.92964824, 1.        , 0.        , 0.68852459, 0.97959184],\n",
       "       [0.61306533, 0.        , 0.        , 0.44262295, 0.58163265],\n",
       "       [0.22110553, 0.        , 0.        , 0.19672131, 0.2755102 ],\n",
       "       [0.08040201, 0.        , 0.        , 0.04918033, 0.34693878],\n",
       "       [0.27638191, 1.        , 0.        , 0.2295082 , 0.40816327],\n",
       "       [0.75376884, 1.        , 0.        , 0.51639344, 0.16326531],\n",
       "       [0.55778894, 0.        , 0.        , 0.39344262, 0.54081633],\n",
       "       [0.11055276, 0.        , 0.        , 0.08196721, 0.04081633],\n",
       "       [0.94974874, 0.        , 0.        , 0.72131148, 0.85714286],\n",
       "       [0.64824121, 1.        , 0.        , 0.45901639, 0.75510204],\n",
       "       [0.0201005 , 0.        , 0.        , 0.01639344, 0.39795918],\n",
       "       [0.41708543, 0.        , 0.        , 0.31967213, 0.43877551],\n",
       "       [0.53266332, 0.        , 0.        , 0.39344262, 0.5       ],\n",
       "       [0.67336683, 1.        , 0.        , 0.47540984, 0.04081633],\n",
       "       [0.33165829, 0.        , 0.        , 0.2704918 , 0.5       ],\n",
       "       [0.13065327, 0.        , 0.        , 0.10655738, 0.31632653],\n",
       "       [0.5678392 , 1.        , 0.        , 0.40163934, 0.45918367],\n",
       "       [0.84422111, 0.        , 0.        , 0.59016393, 0.26530612],\n",
       "       [0.31658291, 0.        , 0.        , 0.26229508, 0.59183673],\n",
       "       [0.04020101, 1.        , 0.        , 0.03278689, 0.02040816],\n",
       "       [0.37688442, 1.        , 0.        , 0.31967213, 0.54081633],\n",
       "       [0.59296482, 0.        , 0.        , 0.42622951, 0.42857143],\n",
       "       [0.71859296, 0.        , 0.        , 0.5       , 0.87755102],\n",
       "       [0.35678392, 0.        , 0.        , 0.27868852, 0.41836735],\n",
       "       [0.62311558, 0.        , 0.        , 0.45081967, 0.28571429],\n",
       "       [0.92462312, 0.        , 0.        , 0.68852459, 0.3877551 ],\n",
       "       [0.48743719, 0.        , 0.        , 0.36885246, 0.5       ],\n",
       "       [0.74874372, 1.        , 0.        , 0.51639344, 0.90816327],\n",
       "       [0.12060302, 0.        , 0.        , 0.10655738, 0.13265306],\n",
       "       [0.15075377, 1.        , 0.        , 0.12295082, 0.03061224],\n",
       "       [0.8040201 , 0.        , 0.        , 0.52459016, 0.34693878],\n",
       "       [0.20100503, 0.        , 0.        , 0.18852459, 0.34693878],\n",
       "       [0.28140704, 0.        , 0.        , 0.23770492, 0.5       ],\n",
       "       [0.65829146, 1.        , 0.        , 0.45901639, 0.75510204],\n",
       "       [0.48241206, 0.        , 0.        , 0.36885246, 0.46938776],\n",
       "       [0.90954774, 0.        , 0.        , 0.67213115, 0.86734694],\n",
       "       [0.09547739, 0.        , 0.        , 0.06557377, 0.98979592],\n",
       "       [0.76884422, 0.        , 0.        , 0.51639344, 0.76530612],\n",
       "       [0.46231156, 1.        , 0.        , 0.36885246, 0.48979592],\n",
       "       [0.27135678, 0.        , 0.        , 0.2295082 , 0.44897959],\n",
       "       [0.81909548, 0.        , 0.        , 0.54098361, 0.93877551],\n",
       "       [0.25628141, 1.        , 0.        , 0.22131148, 0.60204082],\n",
       "       [0.4321608 , 0.        , 0.        , 0.3442623 , 0.58163265],\n",
       "       [0.69849246, 0.        , 0.        , 0.48360656, 0.7244898 ],\n",
       "       [0.45226131, 0.        , 0.        , 0.36065574, 0.55102041],\n",
       "       [0.68844221, 1.        , 0.        , 0.47540984, 0.73469388],\n",
       "       [0.50753769, 0.        , 0.        , 0.3852459 , 0.47959184],\n",
       "       [0.72361809, 1.        , 0.        , 0.50819672, 0.1122449 ],\n",
       "       [0.44723618, 0.        , 0.        , 0.35245902, 0.45918367],\n",
       "       [0.54773869, 1.        , 0.        , 0.39344262, 0.47959184],\n",
       "       [0.07035176, 1.        , 0.        , 0.04098361, 0.12244898],\n",
       "       [0.13567839, 1.        , 0.        , 0.10655738, 0.6122449 ],\n",
       "       [0.70854271, 1.        , 0.        , 0.49180328, 0.93877551],\n",
       "       [0.93969849, 1.        , 0.        , 0.70491803, 0.68367347],\n",
       "       [0.23115578, 0.        , 0.        , 0.20491803, 0.55102041],\n",
       "       [0.69346734, 1.        , 0.        , 0.48360656, 0.09183673],\n",
       "       [0.9798995 , 0.        , 0.        , 0.86065574, 0.79591837],\n",
       "       [0.54271357, 1.        , 0.        , 0.39344262, 0.42857143],\n",
       "       [0.31155779, 0.        , 0.        , 0.26229508, 0.52040816],\n",
       "       [0.01005025, 0.        , 0.        , 0.00819672, 0.05102041],\n",
       "       [0.29648241, 1.        , 0.        , 0.25409836, 0.45918367],\n",
       "       [0.68341709, 0.        , 0.        , 0.47540984, 0.06122449],\n",
       "       [0.98994975, 1.        , 0.        , 0.90983607, 0.74489796],\n",
       "       [0.2160804 , 0.        , 0.        , 0.19672131, 0.6122449 ],\n",
       "       [0.05025126, 1.        , 0.        , 0.03278689, 0.13265306],\n",
       "       [0.97487437, 0.        , 0.        , 0.86065574, 0.15306122],\n",
       "       [0.36683417, 0.        , 0.        , 0.28688525, 0.56122449],\n",
       "       [0.98492462, 0.        , 0.        , 0.90983607, 0.2755102 ],\n",
       "       [0.89447236, 1.        , 0.        , 0.63934426, 0.13265306],\n",
       "       [0.87939698, 0.        , 0.        , 0.59836066, 0.86734694],\n",
       "       [0.63316583, 1.        , 0.        , 0.45901639, 0.34693878],\n",
       "       [0.46733668, 0.        , 0.        , 0.36885246, 0.39795918],\n",
       "       [0.56281407, 0.        , 0.        , 0.40163934, 0.41836735]])"
      ]
     },
     "execution_count": 213,
     "metadata": {},
     "output_type": "execute_result"
    }
   ],
   "source": [
    "x_test"
   ]
  },
  {
   "cell_type": "code",
   "execution_count": 214,
   "id": "2a5ce6b5",
   "metadata": {},
   "outputs": [
    {
     "data": {
      "text/plain": [
       "(100, 5)"
      ]
     },
     "execution_count": 214,
     "metadata": {},
     "output_type": "execute_result"
    }
   ],
   "source": [
    "x_test.shape"
   ]
  },
  {
   "cell_type": "code",
   "execution_count": 215,
   "id": "84c6885b",
   "metadata": {},
   "outputs": [
    {
     "data": {
      "text/plain": [
       "158     1\n",
       "191    69\n",
       "50     52\n",
       "0      39\n",
       "94     42\n",
       "       ..\n",
       "67     48\n",
       "192     8\n",
       "117    59\n",
       "47     47\n",
       "172    10\n",
       "Name: Spending Score (1-100), Length: 100, dtype: int64"
      ]
     },
     "execution_count": 215,
     "metadata": {},
     "output_type": "execute_result"
    }
   ],
   "source": [
    "y_train"
   ]
  },
  {
   "cell_type": "code",
   "execution_count": 216,
   "id": "da8ac441",
   "metadata": {},
   "outputs": [
    {
     "data": {
      "text/plain": [
       "(100,)"
      ]
     },
     "execution_count": 216,
     "metadata": {},
     "output_type": "execute_result"
    }
   ],
   "source": [
    "y_train.shape"
   ]
  },
  {
   "cell_type": "code",
   "execution_count": 217,
   "id": "8377d908",
   "metadata": {},
   "outputs": [
    {
     "data": {
      "text/plain": [
       "18     29\n",
       "170    13\n",
       "107    46\n",
       "98     42\n",
       "177    69\n",
       "       ..\n",
       "178    14\n",
       "175    86\n",
       "126    35\n",
       "93     40\n",
       "112    42\n",
       "Name: Spending Score (1-100), Length: 100, dtype: int64"
      ]
     },
     "execution_count": 217,
     "metadata": {},
     "output_type": "execute_result"
    }
   ],
   "source": [
    "y_test"
   ]
  },
  {
   "cell_type": "code",
   "execution_count": 218,
   "id": "022b69fa",
   "metadata": {},
   "outputs": [
    {
     "data": {
      "text/plain": [
       "(100,)"
      ]
     },
     "execution_count": 218,
     "metadata": {},
     "output_type": "execute_result"
    }
   ],
   "source": [
    "y_test.shape"
   ]
  },
  {
   "cell_type": "markdown",
   "id": "9fbe7dd0",
   "metadata": {},
   "source": [
    "### Build the Model"
   ]
  },
  {
   "cell_type": "code",
   "execution_count": 219,
   "id": "cfaefe01",
   "metadata": {},
   "outputs": [
    {
     "data": {
      "text/plain": [
       "RandomForestRegressor(max_depth=2, random_state=0)"
      ]
     },
     "execution_count": 219,
     "metadata": {},
     "output_type": "execute_result"
    }
   ],
   "source": [
    "from sklearn.ensemble import RandomForestRegressor\n",
    "regr = RandomForestRegressor(max_depth=2, random_state=0,\n",
    "                              n_estimators=100)\n",
    "regr.fit(x_train, y_train)\n",
    "regr.fit(x_test, y_test)"
   ]
  },
  {
   "cell_type": "code",
   "execution_count": 220,
   "id": "068157f9",
   "metadata": {},
   "outputs": [],
   "source": [
    "y_train_pred = regr.predict(x_train)\n",
    "y_test_pred = regr.predict(x_test)"
   ]
  },
  {
   "cell_type": "code",
   "execution_count": 221,
   "id": "5aedd5ea",
   "metadata": {},
   "outputs": [
    {
     "data": {
      "text/plain": [
       "0.9752947343811537"
      ]
     },
     "execution_count": 221,
     "metadata": {},
     "output_type": "execute_result"
    }
   ],
   "source": [
    "regr.score(x_train, y_train)"
   ]
  },
  {
   "cell_type": "code",
   "execution_count": 222,
   "id": "545d9502",
   "metadata": {},
   "outputs": [
    {
     "data": {
      "text/plain": [
       "0.9790787065797374"
      ]
     },
     "execution_count": 222,
     "metadata": {},
     "output_type": "execute_result"
    }
   ],
   "source": [
    "regr.score(x_test, y_test)"
   ]
  },
  {
   "cell_type": "markdown",
   "id": "b521cec0",
   "metadata": {},
   "source": [
    "### Train and Test"
   ]
  },
  {
   "cell_type": "code",
   "execution_count": 223,
   "id": "a8a54c39",
   "metadata": {},
   "outputs": [],
   "source": [
    "from sklearn.model_selection import train_test_split\n",
    "x_train, x_test, y_train, y_test = train_test_split (x_scaled, y, test_size = 0.3, random_state = 0)"
   ]
  },
  {
   "cell_type": "code",
   "execution_count": 224,
   "id": "260094bf",
   "metadata": {},
   "outputs": [
    {
     "data": {
      "text/plain": [
       "array([[0.65829146, 1.        , 0.        , 0.45901639, 0.75510204],\n",
       "       [0.48241206, 0.        , 0.        , 0.36885246, 0.46938776],\n",
       "       [0.90954774, 0.        , 0.        , 0.67213115, 0.86734694],\n",
       "       [0.09547739, 0.        , 0.        , 0.06557377, 0.98979592],\n",
       "       [0.76884422, 0.        , 0.        , 0.51639344, 0.76530612],\n",
       "       [0.46231156, 1.        , 0.        , 0.36885246, 0.48979592],\n",
       "       [0.27135678, 0.        , 0.        , 0.2295082 , 0.44897959],\n",
       "       [0.81909548, 0.        , 0.        , 0.54098361, 0.93877551],\n",
       "       [0.25628141, 1.        , 0.        , 0.22131148, 0.60204082],\n",
       "       [0.4321608 , 0.        , 0.        , 0.3442623 , 0.58163265],\n",
       "       [0.69849246, 0.        , 0.        , 0.48360656, 0.7244898 ],\n",
       "       [0.45226131, 0.        , 0.        , 0.36065574, 0.55102041],\n",
       "       [0.68844221, 1.        , 0.        , 0.47540984, 0.73469388],\n",
       "       [0.50753769, 0.        , 0.        , 0.3852459 , 0.47959184],\n",
       "       [0.72361809, 1.        , 0.        , 0.50819672, 0.1122449 ],\n",
       "       [0.44723618, 0.        , 0.        , 0.35245902, 0.45918367],\n",
       "       [0.54773869, 1.        , 0.        , 0.39344262, 0.47959184],\n",
       "       [0.07035176, 1.        , 0.        , 0.04098361, 0.12244898],\n",
       "       [0.13567839, 1.        , 0.        , 0.10655738, 0.6122449 ],\n",
       "       [0.70854271, 1.        , 0.        , 0.49180328, 0.93877551],\n",
       "       [0.93969849, 1.        , 0.        , 0.70491803, 0.68367347],\n",
       "       [0.23115578, 0.        , 0.        , 0.20491803, 0.55102041],\n",
       "       [0.69346734, 1.        , 0.        , 0.48360656, 0.09183673],\n",
       "       [0.9798995 , 0.        , 0.        , 0.86065574, 0.79591837],\n",
       "       [0.54271357, 1.        , 0.        , 0.39344262, 0.42857143],\n",
       "       [0.31155779, 0.        , 0.        , 0.26229508, 0.52040816],\n",
       "       [0.01005025, 0.        , 0.        , 0.00819672, 0.05102041],\n",
       "       [0.29648241, 1.        , 0.        , 0.25409836, 0.45918367],\n",
       "       [0.68341709, 0.        , 0.        , 0.47540984, 0.06122449],\n",
       "       [0.98994975, 1.        , 0.        , 0.90983607, 0.74489796],\n",
       "       [0.2160804 , 0.        , 0.        , 0.19672131, 0.6122449 ],\n",
       "       [0.05025126, 1.        , 0.        , 0.03278689, 0.13265306],\n",
       "       [0.97487437, 0.        , 0.        , 0.86065574, 0.15306122],\n",
       "       [0.36683417, 0.        , 0.        , 0.28688525, 0.56122449],\n",
       "       [0.98492462, 0.        , 0.        , 0.90983607, 0.2755102 ],\n",
       "       [0.89447236, 1.        , 0.        , 0.63934426, 0.13265306],\n",
       "       [0.87939698, 0.        , 0.        , 0.59836066, 0.86734694],\n",
       "       [0.63316583, 1.        , 0.        , 0.45901639, 0.34693878],\n",
       "       [0.46733668, 0.        , 0.        , 0.36885246, 0.39795918],\n",
       "       [0.56281407, 0.        , 0.        , 0.40163934, 0.41836735],\n",
       "       [0.79396985, 1.        , 0.        , 0.51639344, 0.        ],\n",
       "       [0.95979899, 0.        , 0.        , 0.72131148, 0.69387755],\n",
       "       [0.25125628, 0.        , 0.        , 0.22131148, 0.52040816],\n",
       "       [0.        , 1.        , 0.        , 0.        , 0.3877551 ],\n",
       "       [0.47236181, 0.        , 0.        , 0.36885246, 0.41836735],\n",
       "       [0.55276382, 1.        , 0.        , 0.39344262, 0.52040816],\n",
       "       [0.47738693, 1.        , 0.        , 0.36885246, 0.52040816],\n",
       "       [0.32160804, 1.        , 0.        , 0.2704918 , 0.51020408],\n",
       "       [0.83919598, 0.        , 0.        , 0.58196721, 0.95918367],\n",
       "       [0.20603015, 1.        , 0.        , 0.18852459, 0.92857143],\n",
       "       [0.34673367, 0.        , 0.        , 0.2704918 , 0.46938776],\n",
       "       [0.24623116, 0.        , 0.        , 0.20491803, 0.41836735],\n",
       "       [0.24120603, 0.        , 0.        , 0.20491803, 0.41836735],\n",
       "       [0.42713568, 1.        , 0.        , 0.31967213, 0.45918367],\n",
       "       [0.06532663, 0.        , 0.        , 0.04098361, 0.7755102 ],\n",
       "       [0.80904523, 0.        , 0.        , 0.52459016, 0.83673469],\n",
       "       [0.11557789, 1.        , 0.        , 0.08196721, 0.73469388],\n",
       "       [0.93467337, 0.        , 0.        , 0.70491803, 0.23469388],\n",
       "       [0.67839196, 0.        , 0.        , 0.47540984, 0.8877551 ],\n",
       "       [0.10050251, 1.        , 0.        , 0.07377049, 0.34693878],\n",
       "       [0.07537688, 1.        , 0.        , 0.04098361, 0.79591837],\n",
       "       [0.3919598 , 0.        , 0.        , 0.31967213, 0.52040816],\n",
       "       [0.52261307, 1.        , 0.        , 0.3852459 , 0.56122449],\n",
       "       [0.26130653, 0.        , 0.        , 0.2295082 , 0.54081633],\n",
       "       [0.50251256, 0.        , 0.        , 0.3852459 , 0.40816327],\n",
       "       [0.38190955, 0.        , 0.        , 0.31967213, 0.53061224],\n",
       "       [0.01507538, 0.        , 0.        , 0.00819672, 0.7755102 ],\n",
       "       [0.58291457, 0.        , 0.        , 0.40983607, 0.42857143],\n",
       "       [0.8241206 , 1.        , 0.        , 0.57377049, 0.25510204],\n",
       "       [0.99497487, 1.        , 0.        , 1.        , 0.17346939],\n",
       "       [0.03015075, 0.        , 0.        , 0.02459016, 0.05102041],\n",
       "       [0.34170854, 1.        , 0.        , 0.2704918 , 0.59183673],\n",
       "       [0.42211055, 0.        , 0.        , 0.31967213, 0.57142857],\n",
       "       [0.6080402 , 0.        , 0.        , 0.42622951, 0.39795918],\n",
       "       [0.77889447, 0.        , 0.        , 0.51639344, 0.89795918],\n",
       "       [0.85929648, 1.        , 0.        , 0.59016393, 0.75510204],\n",
       "       [0.7839196 , 1.        , 0.        , 0.51639344, 0.        ],\n",
       "       [0.45728643, 1.        , 0.        , 0.36065574, 0.40816327],\n",
       "       [1.        , 1.        , 0.        , 1.        , 0.83673469],\n",
       "       [0.05527638, 0.        , 0.        , 0.03278689, 1.        ],\n",
       "       [0.59798995, 0.        , 0.        , 0.42622951, 0.57142857],\n",
       "       [0.51256281, 1.        , 0.        , 0.3852459 , 0.59183673],\n",
       "       [0.1758794 , 0.        , 0.        , 0.14754098, 0.81632653],\n",
       "       [0.28643216, 1.        , 0.        , 0.23770492, 0.45918367],\n",
       "       [0.32663317, 1.        , 0.        , 0.2704918 , 0.59183673],\n",
       "       [0.00502513, 1.        , 0.        , 0.        , 0.81632653],\n",
       "       [0.60301508, 1.        , 0.        , 0.42622951, 0.56122449],\n",
       "       [0.81407035, 1.        , 0.        , 0.54098361, 0.04081633],\n",
       "       [0.21105528, 1.        , 0.        , 0.19672131, 0.35714286],\n",
       "       [0.52763819, 0.        , 0.        , 0.3852459 , 0.41836735],\n",
       "       [0.66331658, 0.        , 0.        , 0.46721311, 0.33673469],\n",
       "       [0.86934673, 1.        , 0.        , 0.59016393, 0.92857143],\n",
       "       [0.08542714, 1.        , 0.        , 0.04918033, 0.66326531],\n",
       "       [0.19095477, 0.        , 0.        , 0.18032787, 0.25510204],\n",
       "       [0.66834171, 0.        , 0.        , 0.46721311, 0.71428571],\n",
       "       [0.26633166, 1.        , 0.        , 0.2295082 , 0.60204082],\n",
       "       [0.78894472, 0.        , 0.        , 0.51639344, 0.78571429],\n",
       "       [0.64321608, 1.        , 0.        , 0.45901639, 0.10204082],\n",
       "       [0.17085427, 0.        , 0.        , 0.14754098, 0.13265306],\n",
       "       [0.14070352, 0.        , 0.        , 0.1147541 , 0.30612245],\n",
       "       [0.57286432, 0.        , 0.        , 0.40983607, 0.47959184],\n",
       "       [0.75879397, 1.        , 0.        , 0.51639344, 0.8877551 ],\n",
       "       [0.15577889, 0.        , 0.        , 0.12295082, 0.73469388],\n",
       "       [0.83417085, 1.        , 0.        , 0.58196721, 0.19387755],\n",
       "       [0.63819095, 1.        , 0.        , 0.45901639, 0.95918367],\n",
       "       [0.88442211, 1.        , 0.        , 0.59836066, 0.14285714],\n",
       "       [0.16080402, 1.        , 0.        , 0.14754098, 0.03061224],\n",
       "       [0.71356784, 0.        , 0.        , 0.5       , 0.39795918],\n",
       "       [0.84924623, 1.        , 0.        , 0.59016393, 0.63265306],\n",
       "       [0.73869347, 0.        , 0.        , 0.50819672, 0.74489796],\n",
       "       [0.14572864, 0.        , 0.        , 0.1147541 , 0.87755102],\n",
       "       [0.49748744, 1.        , 0.        , 0.37704918, 0.48979592],\n",
       "       [0.4120603 , 1.        , 0.        , 0.31967213, 0.40816327],\n",
       "       [0.39698492, 0.        , 0.        , 0.31967213, 0.41836735],\n",
       "       [0.57788945, 0.        , 0.        , 0.40983607, 0.5       ],\n",
       "       [0.74371859, 0.        , 0.        , 0.51639344, 0.21428571],\n",
       "       [0.96984925, 0.        , 0.        , 0.80327869, 0.91836735],\n",
       "       [0.36180905, 0.        , 0.        , 0.28688525, 0.48979592],\n",
       "       [0.38693467, 1.        , 0.        , 0.31967213, 0.47959184],\n",
       "       [0.12562814, 1.        , 0.        , 0.10655738, 0.82653061],\n",
       "       [0.82914573, 0.        , 0.        , 0.57377049, 0.75510204],\n",
       "       [0.40703518, 1.        , 0.        , 0.31967213, 0.55102041],\n",
       "       [0.94472362, 0.        , 0.        , 0.72131148, 0.16326531],\n",
       "       [0.87437186, 0.        , 0.        , 0.59836066, 0.12244898],\n",
       "       [0.95477387, 0.        , 0.        , 0.72131148, 0.2244898 ],\n",
       "       [0.1959799 , 0.        , 0.        , 0.18032787, 0.75510204],\n",
       "       [0.29145729, 0.        , 0.        , 0.25409836, 0.51020408],\n",
       "       [0.70351759, 0.        , 0.        , 0.49180328, 0.04081633],\n",
       "       [0.44221106, 0.        , 0.        , 0.35245902, 0.60204082],\n",
       "       [0.35175879, 1.        , 0.        , 0.27868852, 0.55102041],\n",
       "       [0.43718593, 0.        , 0.        , 0.3442623 , 0.55102041],\n",
       "       [0.18090452, 0.        , 0.        , 0.1557377 , 0.16326531],\n",
       "       [0.10552764, 1.        , 0.        , 0.07377049, 0.73469388],\n",
       "       [0.04522613, 0.        , 0.        , 0.03278689, 0.7244898 ],\n",
       "       [0.51758794, 1.        , 0.        , 0.3852459 , 0.55102041],\n",
       "       [0.33668342, 0.        , 0.        , 0.2704918 , 0.47959184],\n",
       "       [0.96482412, 1.        , 0.        , 0.80327869, 0.07142857],\n",
       "       [0.5879397 , 0.        , 0.        , 0.40983607, 0.59183673],\n",
       "       [0.2361809 , 0.        , 0.        , 0.20491803, 0.46938776],\n",
       "       [0.86432161, 1.        , 0.        , 0.59016393, 0.09183673]])"
      ]
     },
     "execution_count": 224,
     "metadata": {},
     "output_type": "execute_result"
    }
   ],
   "source": [
    "x_train"
   ]
  },
  {
   "cell_type": "code",
   "execution_count": 225,
   "id": "8cc138b0",
   "metadata": {},
   "outputs": [
    {
     "data": {
      "text/plain": [
       "array([[0.09045226, 1.        , 0.        , 0.06557377, 0.28571429],\n",
       "       [0.85427136, 1.        , 0.        , 0.59016393, 0.12244898],\n",
       "       [0.53768844, 1.        , 0.        , 0.39344262, 0.45918367],\n",
       "       [0.49246231, 1.        , 0.        , 0.37704918, 0.41836735],\n",
       "       [0.88944724, 1.        , 0.        , 0.59836066, 0.69387755],\n",
       "       [0.91457286, 1.        , 0.        , 0.68032787, 0.14285714],\n",
       "       [0.02512563, 0.        , 0.        , 0.01639344, 0.76530612],\n",
       "       [0.73366834, 1.        , 0.        , 0.50819672, 0.35714286],\n",
       "       [0.06030151, 0.        , 0.        , 0.04098361, 0.14285714],\n",
       "       [0.7638191 , 0.        , 0.        , 0.51639344, 0.19387755],\n",
       "       [0.30653266, 1.        , 0.        , 0.25409836, 0.55102041],\n",
       "       [0.6281407 , 0.        , 0.        , 0.45081967, 0.7755102 ],\n",
       "       [0.90452261, 0.        , 0.        , 0.67213115, 0.31632653],\n",
       "       [0.77386935, 0.        , 0.        , 0.51639344, 0.15306122],\n",
       "       [0.40201005, 1.        , 0.        , 0.31967213, 0.51020408],\n",
       "       [0.03517588, 0.        , 0.        , 0.02459016, 0.94897959],\n",
       "       [0.16582915, 1.        , 0.        , 0.14754098, 0.92857143],\n",
       "       [0.65326633, 1.        , 0.        , 0.45901639, 0.08163265],\n",
       "       [0.18592965, 0.        , 0.        , 0.1557377 , 0.73469388],\n",
       "       [0.3718593 , 1.        , 0.        , 0.31967213, 0.46938776],\n",
       "       [0.91959799, 0.        , 0.        , 0.68032787, 0.8877551 ],\n",
       "       [0.72864322, 1.        , 0.        , 0.50819672, 0.97959184],\n",
       "       [0.22613065, 0.        , 0.        , 0.19672131, 0.65306122],\n",
       "       [0.79899497, 0.        , 0.        , 0.51639344, 0.73469388],\n",
       "       [0.30150754, 1.        , 0.        , 0.25409836, 0.56122449],\n",
       "       [0.61809045, 1.        , 0.        , 0.44262295, 0.91836735],\n",
       "       [0.89949749, 1.        , 0.        , 0.63934426, 0.90816327],\n",
       "       [0.92964824, 1.        , 0.        , 0.68852459, 0.97959184],\n",
       "       [0.61306533, 0.        , 0.        , 0.44262295, 0.58163265],\n",
       "       [0.22110553, 0.        , 0.        , 0.19672131, 0.2755102 ],\n",
       "       [0.08040201, 0.        , 0.        , 0.04918033, 0.34693878],\n",
       "       [0.27638191, 1.        , 0.        , 0.2295082 , 0.40816327],\n",
       "       [0.75376884, 1.        , 0.        , 0.51639344, 0.16326531],\n",
       "       [0.55778894, 0.        , 0.        , 0.39344262, 0.54081633],\n",
       "       [0.11055276, 0.        , 0.        , 0.08196721, 0.04081633],\n",
       "       [0.94974874, 0.        , 0.        , 0.72131148, 0.85714286],\n",
       "       [0.64824121, 1.        , 0.        , 0.45901639, 0.75510204],\n",
       "       [0.0201005 , 0.        , 0.        , 0.01639344, 0.39795918],\n",
       "       [0.41708543, 0.        , 0.        , 0.31967213, 0.43877551],\n",
       "       [0.53266332, 0.        , 0.        , 0.39344262, 0.5       ],\n",
       "       [0.67336683, 1.        , 0.        , 0.47540984, 0.04081633],\n",
       "       [0.33165829, 0.        , 0.        , 0.2704918 , 0.5       ],\n",
       "       [0.13065327, 0.        , 0.        , 0.10655738, 0.31632653],\n",
       "       [0.5678392 , 1.        , 0.        , 0.40163934, 0.45918367],\n",
       "       [0.84422111, 0.        , 0.        , 0.59016393, 0.26530612],\n",
       "       [0.31658291, 0.        , 0.        , 0.26229508, 0.59183673],\n",
       "       [0.04020101, 1.        , 0.        , 0.03278689, 0.02040816],\n",
       "       [0.37688442, 1.        , 0.        , 0.31967213, 0.54081633],\n",
       "       [0.59296482, 0.        , 0.        , 0.42622951, 0.42857143],\n",
       "       [0.71859296, 0.        , 0.        , 0.5       , 0.87755102],\n",
       "       [0.35678392, 0.        , 0.        , 0.27868852, 0.41836735],\n",
       "       [0.62311558, 0.        , 0.        , 0.45081967, 0.28571429],\n",
       "       [0.92462312, 0.        , 0.        , 0.68852459, 0.3877551 ],\n",
       "       [0.48743719, 0.        , 0.        , 0.36885246, 0.5       ],\n",
       "       [0.74874372, 1.        , 0.        , 0.51639344, 0.90816327],\n",
       "       [0.12060302, 0.        , 0.        , 0.10655738, 0.13265306],\n",
       "       [0.15075377, 1.        , 0.        , 0.12295082, 0.03061224],\n",
       "       [0.8040201 , 0.        , 0.        , 0.52459016, 0.34693878],\n",
       "       [0.20100503, 0.        , 0.        , 0.18852459, 0.34693878],\n",
       "       [0.28140704, 0.        , 0.        , 0.23770492, 0.5       ]])"
      ]
     },
     "execution_count": 225,
     "metadata": {},
     "output_type": "execute_result"
    }
   ],
   "source": [
    "x_test"
   ]
  },
  {
   "cell_type": "code",
   "execution_count": 226,
   "id": "8a33c845",
   "metadata": {},
   "outputs": [
    {
     "data": {
      "text/plain": [
       "131    75\n",
       "96     47\n",
       "181    86\n",
       "19     98\n",
       "153    76\n",
       "       ..\n",
       "67     48\n",
       "192     8\n",
       "117    59\n",
       "47     47\n",
       "172    10\n",
       "Name: Spending Score (1-100), Length: 140, dtype: int64"
      ]
     },
     "execution_count": 226,
     "metadata": {},
     "output_type": "execute_result"
    }
   ],
   "source": [
    "y_train"
   ]
  },
  {
   "cell_type": "code",
   "execution_count": 227,
   "id": "10743b24",
   "metadata": {},
   "outputs": [
    {
     "data": {
      "text/plain": [
       "18     29\n",
       "170    13\n",
       "107    46\n",
       "98     42\n",
       "177    69\n",
       "182    15\n",
       "5      76\n",
       "146    36\n",
       "12     15\n",
       "152    20\n",
       "61     55\n",
       "125    77\n",
       "180    32\n",
       "154    16\n",
       "80     51\n",
       "7      94\n",
       "33     92\n",
       "130     9\n",
       "37     73\n",
       "74     47\n",
       "183    88\n",
       "145    97\n",
       "45     65\n",
       "159    73\n",
       "60     56\n",
       "123    91\n",
       "179    90\n",
       "185    97\n",
       "122    58\n",
       "44     28\n",
       "16     35\n",
       "55     41\n",
       "150    17\n",
       "111    54\n",
       "22      5\n",
       "189    85\n",
       "129    75\n",
       "4      40\n",
       "83     44\n",
       "106    50\n",
       "134     5\n",
       "66     50\n",
       "26     32\n",
       "113    46\n",
       "168    27\n",
       "63     59\n",
       "8       3\n",
       "75     54\n",
       "118    43\n",
       "143    87\n",
       "71     42\n",
       "124    29\n",
       "184    39\n",
       "97     50\n",
       "149    90\n",
       "24     14\n",
       "30      4\n",
       "160    35\n",
       "40     35\n",
       "56     50\n",
       "Name: Spending Score (1-100), dtype: int64"
      ]
     },
     "execution_count": 227,
     "metadata": {},
     "output_type": "execute_result"
    }
   ],
   "source": [
    "y_test"
   ]
  },
  {
   "cell_type": "markdown",
   "id": "c2e981d0",
   "metadata": {},
   "source": [
    "### Evaluation Metrics"
   ]
  },
  {
   "cell_type": "code",
   "execution_count": 228,
   "id": "8d2b3293",
   "metadata": {},
   "outputs": [
    {
     "data": {
      "text/plain": [
       "0.9718954898467616"
      ]
     },
     "execution_count": 228,
     "metadata": {},
     "output_type": "execute_result"
    }
   ],
   "source": [
    "from sklearn.metrics import r2_score\n",
    "r2_score(y_pred, y_test)\n"
   ]
  },
  {
   "cell_type": "code",
   "execution_count": 229,
   "id": "d569f91d",
   "metadata": {},
   "outputs": [
    {
     "name": "stdout",
     "output_type": "stream",
     "text": [
      "MAE 3.2810222489289385\n"
     ]
    }
   ],
   "source": [
    "#MAE\n",
    "from sklearn.metrics import mean_absolute_error\n",
    "print(\"MAE\",mean_absolute_error(y_test,y_pred))"
   ]
  },
  {
   "cell_type": "code",
   "execution_count": 230,
   "id": "8eb9f01a",
   "metadata": {},
   "outputs": [
    {
     "name": "stdout",
     "output_type": "stream",
     "text": [
      "MSE 17.504352105571893\n"
     ]
    }
   ],
   "source": [
    "#MSE\n",
    "from sklearn.metrics import mean_squared_error\n",
    "print(\"MSE\",mean_squared_error(y_test,y_pred))"
   ]
  },
  {
   "cell_type": "code",
   "execution_count": 231,
   "id": "251580c4",
   "metadata": {},
   "outputs": [
    {
     "name": "stdout",
     "output_type": "stream",
     "text": [
      "RMSE 4.183820276442559\n"
     ]
    }
   ],
   "source": [
    "#RMSE\n",
    "print(\"RMSE\",np.sqrt(mean_squared_error(y_test,y_pred)))"
   ]
  },
  {
   "cell_type": "code",
   "execution_count": 232,
   "id": "dc724c22",
   "metadata": {},
   "outputs": [
    {
     "name": "stdout",
     "output_type": "stream",
     "text": [
      "RMSE 1.4312247708788837\n"
     ]
    }
   ],
   "source": [
    "#RMSLE\n",
    "print(\"RMSE\",np.log(np.sqrt(mean_squared_error(y_test,y_pred))))"
   ]
  },
  {
   "cell_type": "code",
   "execution_count": 234,
   "id": "98c16f75",
   "metadata": {},
   "outputs": [
    {
     "name": "stdout",
     "output_type": "stream",
     "text": [
      "0.9755948089587156\n"
     ]
    }
   ],
   "source": [
    "# RSquared\n",
    "from sklearn.metrics import r2_score\n",
    "r2 = r2_score(y_test,y_pred)\n",
    "print(r2)"
   ]
  },
  {
   "cell_type": "code",
   "execution_count": 235,
   "id": "c9efd695",
   "metadata": {},
   "outputs": [
    {
     "name": "stdout",
     "output_type": "stream",
     "text": [
      "0.9742756094429705\n"
     ]
    }
   ],
   "source": [
    "#Adjusted RSquared\n",
    "n=40\n",
    "k=2\n",
    "adj_r2_score = 1 - ((1-r2)*(n-1)/(n-k-1))\n",
    "print(adj_r2_score)"
   ]
  }
 ],
 "metadata": {
  "kernelspec": {
   "display_name": "Python 3 (ipykernel)",
   "language": "python",
   "name": "python3"
  },
  "language_info": {
   "codemirror_mode": {
    "name": "ipython",
    "version": 3
   },
   "file_extension": ".py",
   "mimetype": "text/x-python",
   "name": "python",
   "nbconvert_exporter": "python",
   "pygments_lexer": "ipython3",
   "version": "3.9.12"
  }
 },
 "nbformat": 4,
 "nbformat_minor": 5
}
